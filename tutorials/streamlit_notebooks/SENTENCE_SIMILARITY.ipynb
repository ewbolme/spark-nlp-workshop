{
 "cells": [
  {
   "cell_type": "markdown",
   "metadata": {
    "colab_type": "text",
    "id": "TA21Jo5d9SVq"
   },
   "source": [
    "\n",
    "\n",
    "![JohnSnowLabs](https://nlp.johnsnowlabs.com/assets/images/logo.png)\n",
    "\n",
    "[![Open In Colab](https://colab.research.google.com/assets/colab-badge.svg)](https://colab.research.google.com/github/JohnSnowLabs/spark-nlp-workshop/blob/master/tutorials/streamlit_notebooks/SENTENCE_SIMILARITY.ipynb)\n",
    "\n",
    "\n"
   ]
  },
  {
   "cell_type": "markdown",
   "metadata": {
    "colab_type": "text",
    "id": "CzIdjHkAW8TB"
   },
   "source": [
    "# **Detect sentence similarity**"
   ]
  },
  {
   "cell_type": "markdown",
   "metadata": {
    "colab_type": "text",
    "id": "wIeCOiJNW-88"
   },
   "source": [
    "## 1. Colab Setup"
   ]
  },
  {
   "cell_type": "code",
   "execution_count": null,
   "metadata": {
    "colab": {
     "base_uri": "https://localhost:8080/",
     "height": 228
    },
    "colab_type": "code",
    "id": "CGJktFHdHL1n",
    "outputId": "9c82a651-ff1f-42a1-c627-3d9ad59fe586"
   },
   "outputs": [],
   "source": [
    "# Install Java\n",
    "! apt-get update -qq\n",
    "! apt-get install -y openjdk-8-jdk-headless -qq > /dev/null\n",
    "! java -version\n",
    "\n",
    "# Install pyspark\n",
    "! pip install --ignore-installed -q pyspark==2.4.4\n",
    "\n",
    "# Install SparkNLP\n",
    "! pip install --ignore-installed spark-nlp"
   ]
  },
  {
   "cell_type": "markdown",
   "metadata": {
    "colab_type": "text",
    "id": "eCIT5VLxS3I1"
   },
   "source": [
    "## 2. Start the Spark session"
   ]
  },
  {
   "cell_type": "code",
   "execution_count": null,
   "metadata": {
    "colab": {},
    "colab_type": "code",
    "id": "sw-t1zxlHTB7"
   },
   "outputs": [],
   "source": [
    "import os\n",
    "import json\n",
    "os.environ['JAVA_HOME'] = \"/usr/lib/jvm/java-8-openjdk-amd64\"\n",
    "\n",
    "import pandas as pd\n",
    "import numpy as np\n",
    "\n",
    "from pyspark.ml import Pipeline\n",
    "from pyspark.sql import SparkSession\n",
    "import pyspark.sql.functions as F\n",
    "\n",
    "import sparknlp\n",
    "from sparknlp.annotator import *\n",
    "from sparknlp.base import *\n",
    "from sparknlp.pretrained import PretrainedPipeline\n",
    "\n",
    "spark = sparknlp.start()"
   ]
  },
  {
   "cell_type": "markdown",
   "metadata": {
    "colab_type": "text",
    "id": "9RgiqfX5XDqb"
   },
   "source": [
    "## 3. Select the USE model"
   ]
  },
  {
   "cell_type": "markdown",
   "metadata": {
    "colab_type": "text",
    "id": "_WkVpaI4reGN"
   },
   "source": [
    "If you change the model, re-run the cell that creates the pipeline so the pipeline will use the new model."
   ]
  },
  {
   "cell_type": "code",
   "execution_count": null,
   "metadata": {
    "colab": {},
    "colab_type": "code",
    "id": "LLuDz_t40be4"
   },
   "outputs": [],
   "source": [
    "# If you change the model, re-run all the cells below.\n",
    "# Applicable models: tfhub_use, tfhub_use_lg\n",
    "MODEL_NAME = \"tfhub_use\"\n",
    "os.environ['MODEL_NAME'] = MODEL_NAME"
   ]
  },
  {
   "cell_type": "markdown",
   "metadata": {
    "colab_type": "text",
    "id": "2Y9GpdJhXIpD"
   },
   "source": [
    "## 4. Some sample examples"
   ]
  },
  {
   "cell_type": "code",
   "execution_count": null,
   "metadata": {
    "colab": {},
    "colab_type": "code",
    "id": "vBOKkB2THdGI"
   },
   "outputs": [],
   "source": [
    "# To compare the similarity of sentences, enter them as strings in this list.\n",
    "text_list = [\n",
    "    \"Sign up for our mailing list to get free offers and updates about our products!\",\n",
    "    \"Subscribe to notifications to receive information about discounts and new offerings.\",\n",
    "    \"Send in your information for a chance to win big in our Summer Sweepstakes!\",\n",
    "    \"After filling out this form, you will receive a confirmation email to complete your signup.\",\n",
    "    \"It was raining, so I waited beneath the balcony outside the cafe.\",\n",
    "    \"I stayed under the deck of the cafe because it was rainy outside.\",\n",
    "    \"I like the cafe down the street because it's not too loud in there.\",\n",
    "    \"The coffee shop near where I live is quiet, so I like to go there.\",\n",
    "    \"Web traffic analysis shows that most Internet users browse on mobile nowadays.\",\n",
    "    \"The analytics show that modern web users mostly use their phone instead of their computers.\"\n",
    "]"
   ]
  },
  {
   "cell_type": "markdown",
   "metadata": {
    "colab_type": "text",
    "id": "fjSn9AFtLeiP"
   },
   "source": [
    "Write the input sentences into a single file."
   ]
  },
  {
   "cell_type": "code",
   "execution_count": null,
   "metadata": {
    "colab": {
     "base_uri": "https://localhost:8080/",
     "height": 52
    },
    "colab_type": "code",
    "id": "jUlYTyKyKLRg",
    "outputId": "7200e9e6-553c-4d5e-af13-3065d5eb2303"
   },
   "outputs": [],
   "source": [
    "! mkdir inputs\n",
    "! mkdir inputs/$MODEL_NAME\n",
    "with open(f'inputs/{MODEL_NAME}/sentences.txt', 'w') as input_file:\n",
    "    for text in text_list:\n",
    "        input_file.write(text + '\\n')"
   ]
  },
  {
   "cell_type": "markdown",
   "metadata": {
    "colab_type": "text",
    "id": "XftYgju4XOw_"
   },
   "source": [
    "## 5. Define Spark NLP pipeline"
   ]
  },
  {
   "cell_type": "code",
   "execution_count": null,
   "metadata": {
    "colab": {
     "base_uri": "https://localhost:8080/",
     "height": 69
    },
    "colab_type": "code",
    "id": "lBggF5P8J1gc",
    "outputId": "eec66ac9-aea6-4056-83b5-95e94a91728b"
   },
   "outputs": [],
   "source": [
    "# Transforms the input text into a document usable by the SparkNLP pipeline.\n",
    "document_assembler = DocumentAssembler()\n",
    "document_assembler.setInputCol('text')\n",
    "document_assembler.setOutputCol('document')\n",
    "\n",
    "# Separates the text into individual tokens (words and punctuation).\n",
    "tokenizer = Tokenizer()\n",
    "tokenizer.setInputCols(['document'])\n",
    "tokenizer.setOutputCol('token')\n",
    "\n",
    "# Encodes the text as a single vector representing semantic features.\n",
    "sentence_encoder = UniversalSentenceEncoder.pretrained(name=MODEL_NAME)\n",
    "sentence_encoder.setInputCols(['document', 'token'])\n",
    "sentence_encoder.setOutputCol('sentence_embeddings')\n",
    "\n",
    "nlp_pipeline = Pipeline(stages=[\n",
    "    document_assembler, \n",
    "    tokenizer,\n",
    "    sentence_encoder\n",
    "])\n",
    "\n",
    "# Fit the model to an empty data frame so it can be used on inputs.\n",
    "empty_df = spark.createDataFrame([['']]).toDF('text')\n",
    "pipeline_model = nlp_pipeline.fit(empty_df)\n",
    "light_pipeline = LightPipeline(pipeline_model)"
   ]
  },
  {
   "cell_type": "markdown",
   "metadata": {
    "colab_type": "text",
    "id": "mv0abcwhXWC-"
   },
   "source": [
    "## 6. Run the pipeline"
   ]
  },
  {
   "cell_type": "markdown",
   "metadata": {
    "colab_type": "text",
    "id": "ETuUnDApq1qv"
   },
   "source": [
    "This method will get the similarity of the embeddings of each pair of sentences in the list of sentences passed in. The similarity is returned as a matrix, where (0, 2), for example, represents the similarity of input sentence 0 and input sentence 2."
   ]
  },
  {
   "cell_type": "code",
   "execution_count": null,
   "metadata": {
    "colab": {},
    "colab_type": "code",
    "id": "6E0Y5wtunFi4"
   },
   "outputs": [],
   "source": [
    "def get_similarity(input_list):\n",
    "    df = spark.createDataFrame(pd.DataFrame({'text': input_list}))\n",
    "    result = light_pipeline.transform(df)\n",
    "    embeddings = []\n",
    "    for r in result.collect():\n",
    "        embeddings.append(r.sentence_embeddings[0].embeddings)\n",
    "    embeddings_matrix = np.array(embeddings)\n",
    "    return np.matmul(embeddings_matrix, embeddings_matrix.transpose())"
   ]
  },
  {
   "cell_type": "markdown",
   "metadata": {
    "colab_type": "text",
    "id": "ToEGreVFLR5x"
   },
   "source": [
    "Write the computed similarities to a CSV file."
   ]
  },
  {
   "cell_type": "code",
   "execution_count": null,
   "metadata": {
    "colab": {
     "base_uri": "https://localhost:8080/",
     "height": 52
    },
    "colab_type": "code",
    "id": "rbxgRsvbLQd7",
    "outputId": "3113e1f3-5afd-47a9-c2cd-e0f865df0c36"
   },
   "outputs": [],
   "source": [
    "! mkdir outputs\n",
    "! mkdir outputs/$MODEL_NAME\n",
    "np.savetxt(f'outputs/{MODEL_NAME}/similarities.csv',\n",
    "              get_similarity(text_list),\n",
    "              delimiter=',')"
   ]
  },
  {
   "cell_type": "markdown",
   "metadata": {
    "colab_type": "text",
    "id": "UQY8tAP6XZJL"
   },
   "source": [
    "## 7. Visualize results"
   ]
  },
  {
   "cell_type": "markdown",
   "metadata": {
    "colab_type": "text",
    "id": "ZJQyrCKYrH2w"
   },
   "source": [
    "This method plots the gets the similarity of the sentences in the list using the method above, then it plots those similarities as a heatmap where dark red means \"very similar\" and pale yellow means \"not similar at all\"."
   ]
  },
  {
   "cell_type": "code",
   "execution_count": null,
   "metadata": {
    "colab": {},
    "colab_type": "code",
    "id": "MkhcOW4jo27W"
   },
   "outputs": [],
   "source": [
    "import seaborn as sns\n",
    "\n",
    "def plot_similarity(input_list):\n",
    "    g = sns.heatmap(\n",
    "        get_similarity(input_list),\n",
    "        xticklabels=input_list,\n",
    "        yticklabels=input_list,\n",
    "        vmin=0,\n",
    "        vmax=1,\n",
    "        cmap=\"YlOrRd\")\n",
    "    g.set_xticklabels(input_list, rotation=90)\n",
    "    g.set_title(\"Semantic Textual Similarity\")"
   ]
  },
  {
   "cell_type": "code",
   "execution_count": null,
   "metadata": {
    "colab": {
     "base_uri": "https://localhost:8080/",
     "height": 743
    },
    "colab_type": "code",
    "id": "BuOfQ4nHpNMi",
    "outputId": "07e9b5b9-7aaf-4c60-a3de-483d63115f2d"
   },
   "outputs": [],
   "source": [
    "plot_similarity(text_list)"
   ]
  }
 ],
 "metadata": {
  "colab": {
   "collapsed_sections": [],
   "name": "SENTENCE_SIMILARITY.ipynb",
   "provenance": [],
   "toc_visible": true
  },
  "kernelspec": {
   "display_name": "Python 3",
   "language": "python",
   "name": "python3"
  },
  "language_info": {
   "codemirror_mode": {
    "name": "ipython",
    "version": 3
   },
   "file_extension": ".py",
   "mimetype": "text/x-python",
   "name": "python",
   "nbconvert_exporter": "python",
   "pygments_lexer": "ipython3",
   "version": "3.6.5"
  }
 },
 "nbformat": 4,
 "nbformat_minor": 1
}
