{
 "cells": [
  {
   "cell_type": "markdown",
   "metadata": {
    "id": "TA21Jo5d9SVq"
   },
   "source": [
    "\n",
    "\n",
    "![JohnSnowLabs](https://nlp.johnsnowlabs.com/assets/images/logo.png)\n",
    "\n",
    "[![Open In Colab](https://colab.research.google.com/assets/colab-badge.svg)](https://colab.research.google.com/github/JohnSnowLabs/spark-nlp-workshop/blob/master/tutorials/streamlit_notebooks/DATE_MATCHER.ipynb)\n",
    "\n",
    "\n"
   ]
  },
  {
   "cell_type": "markdown",
   "metadata": {
    "id": "CzIdjHkAW8TB"
   },
   "source": [
    "# **Spark NLP Date Matcher**"
   ]
  },
  {
   "cell_type": "markdown",
   "metadata": {
    "id": "IPkP_ghy4Wj_"
   },
   "source": [
    "### Spark NLP documentation and instructions:\n",
    "https://nlp.johnsnowlabs.com/docs/en/quickstart\n",
    "\n",
    "### You can find details about Spark NLP annotators here:\n",
    "https://nlp.johnsnowlabs.com/docs/en/annotators\n",
    "\n",
    "### You can find details about Spark NLP models here:\n",
    "https://nlp.johnsnowlabs.com/models\n"
   ]
  },
  {
   "cell_type": "markdown",
   "metadata": {
    "id": "wIeCOiJNW-88"
   },
   "source": [
    "## 1. Colab Setup"
   ]
  },
  {
   "cell_type": "code",
   "execution_count": null,
   "metadata": {
    "colab": {
     "base_uri": "https://localhost:8080/",
     "height": 224
    },
    "executionInfo": {
     "elapsed": 69088,
     "status": "ok",
     "timestamp": 1603462702881,
     "user": {
      "displayName": "Hasham Ul Haq",
      "photoUrl": "",
      "userId": "10508284328555930330"
     },
     "user_tz": -300
    },
    "id": "CGJktFHdHL1n",
    "outputId": "f72a994b-717a-4ea4-aebe-33a6e99ae717"
   },
   "outputs": [],
   "source": [
    "# Install java\n",
    "!apt-get update -qq\n",
    "!apt-get install -y openjdk-8-jdk-headless -qq > /dev/null\n",
    "!java -version\n",
    "\n",
    "# Install pyspark\n",
    "!pip install --ignore-installed -q pyspark==2.4.4\n",
    "\n",
    "# Install Sparknlp\n",
    "!pip install --ignore-installed spark-nlp"
   ]
  },
  {
   "cell_type": "markdown",
   "metadata": {
    "id": "eCIT5VLxS3I1"
   },
   "source": [
    "## 2. Start the Spark session"
   ]
  },
  {
   "cell_type": "markdown",
   "metadata": {
    "id": "khjM-z9ORFU3"
   },
   "source": [
    "Import dependencies and start Spark session."
   ]
  },
  {
   "cell_type": "code",
   "execution_count": null,
   "metadata": {
    "id": "sw-t1zxlHTB7"
   },
   "outputs": [],
   "source": [
    "import os\n",
    "import json\n",
    "os.environ['JAVA_HOME'] = \"/usr/lib/jvm/java-8-openjdk-amd64\"\n",
    "\n",
    "import pandas as pd\n",
    "import numpy as np\n",
    "\n",
    "from pyspark.ml import Pipeline\n",
    "from pyspark.sql import SparkSession\n",
    "import pyspark.sql.functions as F\n",
    "from sparknlp.annotator import *\n",
    "from sparknlp.base import *\n",
    "import sparknlp\n",
    "from sparknlp.pretrained import PretrainedPipeline\n",
    "\n",
    "spark = sparknlp.start()"
   ]
  },
  {
   "cell_type": "markdown",
   "metadata": {
    "id": "D8E-vYDd1jT0"
   },
   "source": [
    "##3. Build Pipeline"
   ]
  },
  {
   "cell_type": "code",
   "execution_count": null,
   "metadata": {
    "id": "gz_naMHK1ik2"
   },
   "outputs": [],
   "source": [
    "document_assembler = DocumentAssembler()\\\n",
    "    .setInputCol(\"text\")\\\n",
    "    .setOutputCol(\"document\")\n",
    "\n",
    "sentence_detector = SentenceDetector().setInputCols(\"document\")\\\n",
    "    .setOutputCol(\"sentence\")\n",
    "\n",
    "date_matcher = DateMatcher() \\\n",
    "    .setInputCols('sentence')\\\n",
    "    .setOutputCol(\"date\") \\\n",
    "    .setDateFormat(\"yyyy/MM/dd\")\n",
    "\n",
    "pipeline1= Pipeline(stages=[ document_assembler, \n",
    "                                 sentence_detector,\n",
    "                                 date_matcher,\n",
    "                                 ])\n",
    "\n",
    "empty_df = spark.createDataFrame([['']]).toDF(\"text\")\n",
    "\n",
    "date_pp = pipeline1.fit(empty_df)\n",
    "date_model = LightPipeline(date_pp)"
   ]
  },
  {
   "cell_type": "markdown",
   "metadata": {
    "id": "3wwbB08A1ocE"
   },
   "source": [
    "##4. Run & Visualize"
   ]
  },
  {
   "cell_type": "code",
   "execution_count": null,
   "metadata": {
    "id": "3ID8yd871xaZ"
   },
   "outputs": [],
   "source": [
    "input_list = [\n",
    "    \"\"\"David visited the restaurant yesterday with his family. \n",
    "He also visited and the day before, but at that time he was alone.\n",
    "David again visited today with his colleagues.\n",
    "He and his friends really liked the food and hoped to visit again tomorrow.\"\"\",]"
   ]
  },
  {
   "cell_type": "code",
   "execution_count": null,
   "metadata": {
    "colab": {
     "base_uri": "https://localhost:8080/",
     "height": 85
    },
    "executionInfo": {
     "elapsed": 993,
     "status": "ok",
     "timestamp": 1603463024836,
     "user": {
      "displayName": "Hasham Ul Haq",
      "photoUrl": "",
      "userId": "10508284328555930330"
     },
     "user_tz": -300
    },
    "id": "J-0gsWLh1rfF",
    "outputId": "e860091a-3d78-4237-f5c6-a9323afc5733"
   },
   "outputs": [],
   "source": [
    "\n",
    "tres = date_model.fullAnnotate(input_list)[0]\n",
    "for dte in tres['date']:\n",
    "    sent = tres['sentence'][int(dte.metadata['sentence'])]\n",
    "    print (f'text/chunk {sent.result[dte.begin:dte.end+1]} | mapped_date: {dte.result}')"
   ]
  }
 ],
 "metadata": {
  "colab": {
   "collapsed_sections": [],
   "name": "DATE_MATCHER.ipynb",
   "provenance": [],
   "toc_visible": true
  },
  "kernelspec": {
   "display_name": "Python 3",
   "name": "python3"
  }
 },
 "nbformat": 4,
 "nbformat_minor": 0
}
