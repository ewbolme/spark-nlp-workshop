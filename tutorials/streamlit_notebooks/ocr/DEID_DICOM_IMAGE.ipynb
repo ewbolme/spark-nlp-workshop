{
 "cells": [
  {
   "cell_type": "markdown",
   "metadata": {
    "colab_type": "text",
    "id": "P8TTu4dvrqwi"
   },
   "source": [
    "![JohnSnowLabs](https://nlp.johnsnowlabs.com/assets/images/logo.png)\n",
    "\n",
    "[![Open In Colab](https://colab.research.google.com/assets/colab-badge.svg)](https://colab.research.google.com/github/JohnSnowLabs/spark-nlp-workshop/blob/master/tutorials/streamlit_notebooks/ocr/DEID_DICOM_IMAGE.ipynb)"
   ]
  },
  {
   "cell_type": "markdown",
   "metadata": {
    "colab_type": "text",
    "id": "kBWM4Xi0r0sV"
   },
   "source": [
    "# **Deidentify DICOM Images**\n",
    "Deidentify text and metada"
   ]
  },
  {
   "cell_type": "markdown",
   "metadata": {
    "colab_type": "text",
    "id": "o1IAxyTRrx95"
   },
   "source": [
    "To run this yourself, you will need to upload your **Spark OCR & Sprk NLP** license keys to the notebook. Otherwise, you can look at the example outputs at the bottom of the notebook. To upload license keys, open the file explorer on the left side of the screen and upload `workshop_license_keys.json` to the folder that opens."
   ]
  },
  {
   "cell_type": "markdown",
   "metadata": {
    "colab_type": "text",
    "id": "_UwoxcjTsEWl"
   },
   "source": [
    "# 1. Colab Setup"
   ]
  },
  {
   "cell_type": "markdown",
   "metadata": {
    "colab_type": "text",
    "id": "J5t0AhtmsJqS"
   },
   "source": [
    "Install correct version of Pillow and Restart runtime"
   ]
  },
  {
   "cell_type": "code",
   "execution_count": null,
   "metadata": {
    "colab": {
     "base_uri": "https://localhost:8080/",
     "height": 34
    },
    "colab_type": "code",
    "executionInfo": {
     "elapsed": 1244,
     "status": "ok",
     "timestamp": 1597857299225,
     "user": {
      "displayName": "Hasham Ul Haq",
      "photoUrl": "",
      "userId": "10508284328555930330"
     },
     "user_tz": -300
    },
    "id": "3VB-jAmXsDuc",
    "outputId": "73d2fcc8-b337-446f-c5f0-e84b0bc904d8"
   },
   "outputs": [],
   "source": [
    "# Install correct Pillow version\n",
    "import PIL\n",
    "if PIL.__version__  != '6.2.1':\n",
    "  print ('Installing correct version of Pillow. Kernel will restart automatically')\n",
    "  !pip install --upgrade pillow==6.2.1\n",
    "  # hard restart runtime\n",
    "  import os\n",
    "  os.kill(os.getpid(), 9)\n",
    "else:\n",
    "  print ('Correct Pillow detected')"
   ]
  },
  {
   "cell_type": "markdown",
   "metadata": {
    "colab_type": "text",
    "id": "3lQrhKlYsMYq"
   },
   "source": [
    "Read License Key"
   ]
  },
  {
   "cell_type": "code",
   "execution_count": null,
   "metadata": {
    "colab": {
     "base_uri": "https://localhost:8080/",
     "height": 68
    },
    "colab_type": "code",
    "executionInfo": {
     "elapsed": 2219,
     "status": "ok",
     "timestamp": 1597857352708,
     "user": {
      "displayName": "Hasham Ul Haq",
      "photoUrl": "",
      "userId": "10508284328555930330"
     },
     "user_tz": -300
    },
    "id": "JVMdFJhvrEWw",
    "outputId": "3e47285b-a086-4132-be73-db1dc1e488f5"
   },
   "outputs": [],
   "source": [
    "import os\n",
    "import json\n",
    "\n",
    "with open('workshop_license_keys.json') as f:\n",
    "    license_keys = json.load(f)\n",
    "\n",
    "secret = license_keys['JSL_OCR_SECRET']\n",
    "jsl_secret = license_keys['JSL_SECRET']\n",
    "os.environ['SPARK_OCR_LICENSE'] = license_keys['SPARK_OCR_LICENSE']\n",
    "os.environ['JSL_OCR_LICENSE'] = license_keys['SPARK_OCR_LICENSE']\n",
    "os.environ['AWS_ACCESS_KEY_ID']= license_keys['AWS_ACCESS_KEY_ID']\n",
    "os.environ['AWS_SECRET_ACCESS_KEY'] = license_keys['AWS_SECRET_ACCESS_KEY']\n",
    "version = secret.split(\"-\")[0]\n",
    "jsl_version = jsl_secret.split('-')[0]\n",
    "print ('Spark OCR Version:', version)\n",
    "print ('OCR Version:', version,)\n",
    "print ('JSL Version:', jsl_version)"
   ]
  },
  {
   "cell_type": "markdown",
   "metadata": {
    "colab_type": "text",
    "id": "jK01vNa0sOJf"
   },
   "source": [
    "Install Dependencies"
   ]
  },
  {
   "cell_type": "code",
   "execution_count": null,
   "metadata": {
    "colab": {},
    "colab_type": "code",
    "id": "r1CdYmvqrqCy"
   },
   "outputs": [],
   "source": [
    "# Install Java\n",
    "!apt-get update\n",
    "!apt-get install -y openjdk-8-jdk\n",
    "!java -version\n",
    "\n",
    "# Install pyspark\n",
    "!pip install --ignore-installed -q pyspark==2.4.4\n",
    "# Install Spark OCR from PYPI using secret\n",
    "!python -m pip install --upgrade spark-ocr==$version  --extra-index-url https://pypi.johnsnowlabs.com/$secret\n",
    "\n",
    "# Install Spark NLP and Spark NLP JSL\n",
    "! pip install --ignore-installed -q spark-nlp\n",
    "!python -m pip install --upgrade spark-nlp-jsl==$jsl_version --extra-index-url https://pypi.johnsnowlabs.com/$jsl_secret\n"
   ]
  },
  {
   "cell_type": "markdown",
   "metadata": {
    "colab_type": "text",
    "id": "UMzHQ_DrsfxD"
   },
   "source": [
    "Importing Libraries"
   ]
  },
  {
   "cell_type": "code",
   "execution_count": null,
   "metadata": {
    "colab": {},
    "colab_type": "code",
    "executionInfo": {
     "elapsed": 3211,
     "status": "ok",
     "timestamp": 1597857474174,
     "user": {
      "displayName": "Hasham Ul Haq",
      "photoUrl": "",
      "userId": "10508284328555930330"
     },
     "user_tz": -300
    },
    "id": "sw1RJhxEtItB"
   },
   "outputs": [],
   "source": [
    "import pandas as pd\n",
    "import numpy as np\n",
    "import os\n",
    "\n",
    "#Pyspark Imports\n",
    "from pyspark.sql import SparkSession\n",
    "from pyspark.ml import PipelineModel\n",
    "from pyspark.sql import functions as F\n",
    "\n",
    "# Necessary imports from Spark OCR library\n",
    "from sparkocr import start\n",
    "from sparkocr.transformers import *\n",
    "from sparkocr.enums import *\n",
    "from sparkocr.utils import display_image, to_pil_image\n",
    "from sparkocr.metrics import score\n",
    "import pkg_resources\n",
    "\n",
    "# import sparknlp packages\n",
    "from sparknlp.annotator import *\n",
    "from sparknlp.base import *\n",
    "import sparknlp_jsl\n",
    "from sparknlp_jsl.annotator import *\n",
    "\n",
    "os.environ[\"JAVA_HOME\"] = \"/usr/lib/jvm/java-8-openjdk-amd64\"\n",
    "os.environ[\"PATH\"] = os.environ[\"JAVA_HOME\"] + \"/bin:\" + os.environ[\"PATH\"]\n"
   ]
  },
  {
   "cell_type": "markdown",
   "metadata": {
    "colab_type": "text",
    "id": "WrFEVaeCtTB4"
   },
   "source": [
    "Start Spark Session"
   ]
  },
  {
   "cell_type": "code",
   "execution_count": null,
   "metadata": {
    "colab": {
     "base_uri": "https://localhost:8080/",
     "height": 216
    },
    "colab_type": "code",
    "executionInfo": {
     "elapsed": 85094,
     "status": "ok",
     "timestamp": 1597857556061,
     "user": {
      "displayName": "Hasham Ul Haq",
      "photoUrl": "",
      "userId": "10508284328555930330"
     },
     "user_tz": -300
    },
    "id": "g6vXJJbctTNX",
    "outputId": "427b0977-ba63-4594-e310-2e7169b8ec0b"
   },
   "outputs": [],
   "source": [
    "spark = start(secret=secret,\n",
    "              nlp_secret=jsl_secret,\n",
    "              nlp_version=jsl_version,\n",
    "              nlp_internal=True)\n",
    "\n",
    "spark"
   ]
  },
  {
   "cell_type": "markdown",
   "metadata": {
    "colab_type": "text",
    "id": "a6xXe2TftJNe"
   },
   "source": [
    "# 2. Download and read DICOM Image"
   ]
  },
  {
   "cell_type": "markdown",
   "metadata": {
    "colab_type": "text",
    "id": "np6AL16Etkvs"
   },
   "source": [
    "Download Image"
   ]
  },
  {
   "cell_type": "code",
   "execution_count": null,
   "metadata": {
    "colab": {
     "base_uri": "https://localhost:8080/",
     "height": 309
    },
    "colab_type": "code",
    "executionInfo": {
     "elapsed": 8925,
     "status": "ok",
     "timestamp": 1597862071830,
     "user": {
      "displayName": "Hasham Ul Haq",
      "photoUrl": "",
      "userId": "10508284328555930330"
     },
     "user_tz": -300
    },
    "id": "QLOLyKgptaFj",
    "outputId": "5f5b164a-fa0a-44d0-bc9d-18ca2b7cc8a8"
   },
   "outputs": [],
   "source": [
    "!wget https://github.com/JohnSnowLabs/spark-ocr-workshop/raw/master/jupyter/data/dicom/deidentify-brains-front-medical-3.dcm -O image.dcm"
   ]
  },
  {
   "cell_type": "code",
   "execution_count": null,
   "metadata": {
    "colab": {
     "base_uri": "https://localhost:8080/",
     "height": 119
    },
    "colab_type": "code",
    "executionInfo": {
     "elapsed": 10344,
     "status": "ok",
     "timestamp": 1597862129198,
     "user": {
      "displayName": "Hasham Ul Haq",
      "photoUrl": "",
      "userId": "10508284328555930330"
     },
     "user_tz": -300
    },
    "id": "F0pmFfXbthlp",
    "outputId": "c77dbcb3-ecef-4cf8-df88-9942af7ba2da"
   },
   "outputs": [],
   "source": [
    "image_df = spark.read.format(\"binaryFile\").load('image.dcm').cache()\n",
    "image_df.show()"
   ]
  },
  {
   "cell_type": "markdown",
   "metadata": {
    "colab_type": "text",
    "id": "W1nZn-XXtmow"
   },
   "source": [
    "Read Image and metadata"
   ]
  },
  {
   "cell_type": "code",
   "execution_count": null,
   "metadata": {
    "colab": {
     "base_uri": "https://localhost:8080/",
     "height": 1000
    },
    "colab_type": "code",
    "executionInfo": {
     "elapsed": 9099,
     "status": "ok",
     "timestamp": 1597862129199,
     "user": {
      "displayName": "Hasham Ul Haq",
      "photoUrl": "",
      "userId": "10508284328555930330"
     },
     "user_tz": -300
    },
    "id": "OLbx1vmRto2Y",
    "outputId": "221b6d78-b053-4435-cc3e-4c9783bd7dde"
   },
   "outputs": [],
   "source": [
    "for image in DicomToImage().transform(image_df).collect():\n",
    "  #print(image.exception)\n",
    "  #print(image.metadata)\n",
    "  display_image(image.image)"
   ]
  },
  {
   "cell_type": "markdown",
   "metadata": {
    "colab_type": "text",
    "id": "XsfuE4ottadW"
   },
   "source": [
    "# 3. Construct OCR and DEID (NLP) Pipelines"
   ]
  },
  {
   "cell_type": "markdown",
   "metadata": {
    "colab_type": "text",
    "id": "FtAikNkm-DbY"
   },
   "source": [
    "Deidentification Pipeline"
   ]
  },
  {
   "cell_type": "code",
   "execution_count": null,
   "metadata": {
    "colab": {},
    "colab_type": "code",
    "executionInfo": {
     "elapsed": 5740,
     "status": "ok",
     "timestamp": 1597862129200,
     "user": {
      "displayName": "Hasham Ul Haq",
      "photoUrl": "",
      "userId": "10508284328555930330"
     },
     "user_tz": -300
    },
    "id": "vC1qHGVxsd4d"
   },
   "outputs": [],
   "source": [
    "def deidentification_nlp_pipeline(input_column, prefix = \"\"):\n",
    "    document_assembler = DocumentAssembler() \\\n",
    "        .setInputCol(input_column) \\\n",
    "        .setOutputCol(prefix + \"document\")\n",
    "\n",
    "    # Sentence Detector annotator, processes various sentences per line\n",
    "    sentence_detector = SentenceDetector() \\\n",
    "        .setInputCols([prefix + \"document\"]) \\\n",
    "        .setOutputCol(prefix + \"sentence\")\n",
    "\n",
    "    tokenizer = Tokenizer() \\\n",
    "        .setInputCols([prefix + \"sentence\"]) \\\n",
    "        .setOutputCol(prefix + \"token\")\n",
    "\n",
    "    # Clinical word embeddings\n",
    "    word_embeddings = WordEmbeddingsModel.pretrained(\"embeddings_clinical\", \"en\", \"clinical/models\") \\\n",
    "        .setInputCols([prefix + \"sentence\", prefix + \"token\"]) \\\n",
    "        .setOutputCol(prefix + \"embeddings\")\n",
    "    # NER model trained on i2b2 (sampled from MIMIC) dataset\n",
    "    clinical_ner = NerDLModel.pretrained(\"ner_deid_large\", \"en\", \"clinical/models\") \\\n",
    "        .setInputCols([prefix + \"sentence\", prefix + \"token\", prefix + \"embeddings\"]) \\\n",
    "        .setOutputCol(prefix + \"ner\")\n",
    "\n",
    "    custom_ner_converter = NerConverter() \\\n",
    "        .setInputCols([prefix + \"sentence\", prefix + \"token\", prefix + \"ner\"]) \\\n",
    "        .setOutputCol(prefix + \"ner_chunk\") \\\n",
    "        .setWhiteList(['NAME', 'AGE', 'CONTACT',\n",
    "                   'LOCATION', 'PROFESSION', 'PERSON']) #You can set the whitelist accordingly\n",
    "\n",
    "    nlp_pipeline = Pipeline(stages=[\n",
    "            document_assembler,\n",
    "            sentence_detector,\n",
    "            tokenizer,\n",
    "            word_embeddings,\n",
    "            clinical_ner,\n",
    "            custom_ner_converter\n",
    "        ])\n",
    "    empty_data = spark.createDataFrame([[\"\"]]).toDF(input_column)\n",
    "    nlp_model = nlp_pipeline.fit(empty_data)\n",
    "    return nlp_model"
   ]
  },
  {
   "cell_type": "markdown",
   "metadata": {
    "colab_type": "text",
    "id": "8oMgKuEh-G8P"
   },
   "source": [
    "OCR and Metadata Deidentification."
   ]
  },
  {
   "cell_type": "code",
   "execution_count": null,
   "metadata": {
    "colab": {
     "base_uri": "https://localhost:8080/",
     "height": 272
    },
    "colab_type": "code",
    "executionInfo": {
     "elapsed": 19199,
     "status": "ok",
     "timestamp": 1597862144253,
     "user": {
      "displayName": "Hasham Ul Haq",
      "photoUrl": "",
      "userId": "10508284328555930330"
     },
     "user_tz": -300
    },
    "id": "37FLLrrc9aPp",
    "outputId": "9c26b43a-50bf-403c-b7da-28e11cb3c9cc"
   },
   "outputs": [],
   "source": [
    "# Extract jpg images from Dicom images\n",
    "# Set deidentify metadata to True\n",
    "dicom_to_image = DicomToImage() \\\n",
    "    .setInputCol(\"content\") \\\n",
    "    .setOutputCol(\"image_raw\") \\\n",
    "    .setMetadataCol(\"metadata\") \\\n",
    "    .setDeIdentifyMetadata(True)\n",
    "\n",
    "# Extract text from image\n",
    "ocr = ImageToText() \\\n",
    "    .setInputCol(\"image_raw\") \\\n",
    "    .setOutputCol(\"text\") \\\n",
    "    .setIgnoreResolution(False) \\\n",
    "    .setOcrParams([\"preserve_interword_spaces=0\"])\n",
    "\n",
    "\n",
    "# Found sensitive data using DeIdentificationModel\n",
    "deidentification_rules = DeIdentificationModel.pretrained(\"deidentify_rb_no_regex\", \"en\", \"clinical/models\") \\\n",
    "    .setInputCols([\"metadata_sentence\", \"metadata_token\",\"metadata_ner_chunk\"]) \\\n",
    "    .setOutputCol(\"deidentified_metadata_raw\")\n",
    "\n",
    "finisher = Finisher() \\\n",
    "    .setInputCols([\"deidentified_metadata_raw\"]) \\\n",
    "    .setOutputCols(\"deidentified_metadata\") \\\n",
    "    .setOutputAsArray(False) \\\n",
    "    .setValueSplitSymbol(\"\") \\\n",
    "    .setAnnotationSplitSymbol(\"\")\n",
    "\n",
    "\n",
    "# Found coordinates of sensitive data\n",
    "position_finder = PositionFinder() \\\n",
    "    .setInputCols(\"ner_chunk\") \\\n",
    "    .setOutputCol(\"coordinates\") \\\n",
    "    .setPageMatrixCol(\"positions\") \\\n",
    "    .setMatchingWindow(10) \\\n",
    "    .setPadding(0)\n",
    "\n",
    "# Draw filled rectangle for hide sensitive data\n",
    "drawRegions = ImageDrawRegions()  \\\n",
    "    .setInputCol(\"image_raw\")  \\\n",
    "    .setInputRegionsCol(\"coordinates\")  \\\n",
    "    .setOutputCol(\"image_with_regions\")  \\\n",
    "    .setFilledRect(True)\n",
    "\n",
    "# Store image back to Dicom document\n",
    "imageToDicom = ImageToDicom() \\\n",
    "    .setInputCol(\"image_with_regions\") \\\n",
    "    .setOutputCol(\"dicom\") \\\n",
    "    .setInputMetadata(\"deidentified_metadata\")\n",
    "\n",
    "# OCR pipeline\n",
    "pipeline = Pipeline(stages=[\n",
    "    dicom_to_image,\n",
    "    ocr,\n",
    "    deidentification_nlp_pipeline(input_column=\"text\"),\n",
    "    deidentification_nlp_pipeline(input_column=\"metadata\", prefix=\"metadata_\"),\n",
    "    deidentification_rules,\n",
    "    position_finder,\n",
    "    drawRegions,\n",
    "    finisher,\n",
    "    imageToDicom\n",
    "])"
   ]
  },
  {
   "cell_type": "markdown",
   "metadata": {
    "colab_type": "text",
    "id": "iHtbySQu-LCR"
   },
   "source": [
    "# 4. Run the pipelines and save Deidentified Dicom Image"
   ]
  },
  {
   "cell_type": "code",
   "execution_count": null,
   "metadata": {
    "colab": {
     "base_uri": "https://localhost:8080/",
     "height": 34
    },
    "colab_type": "code",
    "executionInfo": {
     "elapsed": 22675,
     "status": "ok",
     "timestamp": 1597862150166,
     "user": {
      "displayName": "Hasham Ul Haq",
      "photoUrl": "",
      "userId": "10508284328555930330"
     },
     "user_tz": -300
    },
    "id": "3tWKnJRz9vHL",
    "outputId": "2796b3ff-0940-4a63-eb28-765b02559df9"
   },
   "outputs": [],
   "source": [
    "de_dicom_df = pipeline.fit(image_df).transform(image_df).cache()\n",
    "\n",
    "output_path = \"./\"\n",
    "\n",
    "for r in de_dicom_df.select(\"dicom\", \"path\").collect():\n",
    "    path, name = os.path.split(r.path)\n",
    "    filename_split = os.path.splitext(name)\n",
    "    file_name = os.path.join(output_path, filename_split[0]+\".dcm\")\n",
    "    print(f\"Storing to {file_name}\")\n",
    "    with open(file_name, \"wb\") as file:\n",
    "        file.write(r.dicom)"
   ]
  },
  {
   "cell_type": "markdown",
   "metadata": {
    "colab_type": "text",
    "id": "UrwYnqwj-fC4"
   },
   "source": [
    "# 5. Load Deidentified Dicom Images and Visualize Results"
   ]
  },
  {
   "cell_type": "code",
   "execution_count": null,
   "metadata": {
    "colab": {
     "base_uri": "https://localhost:8080/",
     "height": 1000
    },
    "colab_type": "code",
    "executionInfo": {
     "elapsed": 3055,
     "status": "ok",
     "timestamp": 1597862790315,
     "user": {
      "displayName": "Hasham Ul Haq",
      "photoUrl": "",
      "userId": "10508284328555930330"
     },
     "user_tz": -300
    },
    "id": "_cb7bW64-eZ-",
    "outputId": "d4ce4acf-53f1-4191-9f37-110a12bde0af"
   },
   "outputs": [],
   "source": [
    "dicom_gen_df = spark.read.format(\"binaryFile\").load(\"./*.dcm\")\n",
    "de_dicom_gen_df = DicomToImage().transform(dicom_gen_df)\n",
    "for r in de_dicom_gen_df.select(\"image\", \"metadata\").collect():\n",
    "    display_image(r.image)\n",
    "    print(r.metadata)"
   ]
  }
 ],
 "metadata": {
  "colab": {
   "authorship_tag": "ABX9TyNsYE9CZUOmPJEzDgNurkcz",
   "collapsed_sections": [],
   "name": "DEID_DICOM_IMAGE.ipynb",
   "provenance": []
  },
  "kernelspec": {
   "display_name": "Python 3",
   "name": "python3"
  }
 },
 "nbformat": 4,
 "nbformat_minor": 0
}
