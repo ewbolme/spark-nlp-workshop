{
 "cells": [
  {
   "cell_type": "markdown",
   "metadata": {
    "colab_type": "text",
    "id": "P8TTu4dvrqwi"
   },
   "source": [
    "![JohnSnowLabs](https://nlp.johnsnowlabs.com/assets/images/logo.png)\n",
    "\n",
    "[![Open In Colab](https://colab.research.google.com/assets/colab-badge.svg)](https://colab.research.google.com/github/JohnSnowLabs/spark-nlp-workshop/blob/master/tutorials/streamlit_notebooks/ocr/DEID_PDF.ipynb)"
   ]
  },
  {
   "cell_type": "markdown",
   "metadata": {
    "colab_type": "text",
    "id": "kBWM4Xi0r0sV"
   },
   "source": [
    "# **De-identify PDF Documents**\n",
    "Deidentify text and metada"
   ]
  },
  {
   "cell_type": "markdown",
   "metadata": {
    "colab_type": "text",
    "id": "o1IAxyTRrx95"
   },
   "source": [
    "To run this yourself, you will need to upload your **Spark OCR & Sprk NLP** license keys to the notebook. Otherwise, you can look at the example outputs at the bottom of the notebook. To upload license keys, open the file explorer on the left side of the screen and upload `workshop_license_keys.json` to the folder that opens."
   ]
  },
  {
   "cell_type": "markdown",
   "metadata": {
    "colab_type": "text",
    "id": "_UwoxcjTsEWl"
   },
   "source": [
    "# 1. Colab Setup"
   ]
  },
  {
   "cell_type": "markdown",
   "metadata": {
    "colab_type": "text",
    "id": "J5t0AhtmsJqS"
   },
   "source": [
    "Install correct version of Pillow and Restart runtime"
   ]
  },
  {
   "cell_type": "code",
   "execution_count": null,
   "metadata": {
    "colab": {
     "base_uri": "https://localhost:8080/",
     "height": 34
    },
    "colab_type": "code",
    "executionInfo": {
     "elapsed": 1067,
     "status": "ok",
     "timestamp": 1598030781196,
     "user": {
      "displayName": "Hasham Ul Haq",
      "photoUrl": "",
      "userId": "10508284328555930330"
     },
     "user_tz": -300
    },
    "id": "3VB-jAmXsDuc",
    "outputId": "795bd406-50fa-44de-f45a-5e6f792d95d7"
   },
   "outputs": [],
   "source": [
    "# Install correct Pillow version\n",
    "import PIL\n",
    "if PIL.__version__  != '6.2.1':\n",
    "  print ('Installing correct version of Pillow. Kernel will restart automatically')\n",
    "  !pip install --upgrade pillow==6.2.1\n",
    "  # hard restart runtime\n",
    "  import os\n",
    "  os.kill(os.getpid(), 9)\n",
    "else:\n",
    "  print ('Correct Pillow detected')"
   ]
  },
  {
   "cell_type": "markdown",
   "metadata": {
    "colab_type": "text",
    "id": "3lQrhKlYsMYq"
   },
   "source": [
    "Read License Key"
   ]
  },
  {
   "cell_type": "code",
   "execution_count": null,
   "metadata": {
    "colab": {
     "base_uri": "https://localhost:8080/",
     "height": 68
    },
    "colab_type": "code",
    "executionInfo": {
     "elapsed": 1027,
     "status": "ok",
     "timestamp": 1598030804782,
     "user": {
      "displayName": "Hasham Ul Haq",
      "photoUrl": "",
      "userId": "10508284328555930330"
     },
     "user_tz": -300
    },
    "id": "JVMdFJhvrEWw",
    "outputId": "11bedf3f-21f7-4d1e-d2ae-468662d3270b"
   },
   "outputs": [],
   "source": [
    "import os\n",
    "import json\n",
    "\n",
    "with open('workshop_license_keys.json') as f:\n",
    "    license_keys = json.load(f)\n",
    "\n",
    "secret = license_keys['JSL_OCR_SECRET']\n",
    "jsl_secret = license_keys['JSL_SECRET']\n",
    "os.environ['SPARK_OCR_LICENSE'] = license_keys['SPARK_OCR_LICENSE']\n",
    "os.environ['JSL_OCR_LICENSE'] = license_keys['SPARK_OCR_LICENSE']\n",
    "os.environ['AWS_ACCESS_KEY_ID']= license_keys['AWS_ACCESS_KEY_ID']\n",
    "os.environ['AWS_SECRET_ACCESS_KEY'] = license_keys['AWS_SECRET_ACCESS_KEY']\n",
    "version = secret.split(\"-\")[0]\n",
    "jsl_version = jsl_secret.split('-')[0]\n",
    "print ('Spark OCR Version:', version)\n",
    "print ('OCR Version:', version,)\n",
    "print ('JSL Version:', jsl_version)"
   ]
  },
  {
   "cell_type": "markdown",
   "metadata": {
    "colab_type": "text",
    "id": "jK01vNa0sOJf"
   },
   "source": [
    "Install Dependencies"
   ]
  },
  {
   "cell_type": "code",
   "execution_count": null,
   "metadata": {
    "colab": {},
    "colab_type": "code",
    "id": "r1CdYmvqrqCy"
   },
   "outputs": [],
   "source": [
    "# Install Java\n",
    "!apt-get update\n",
    "!apt-get install -y openjdk-8-jdk\n",
    "!java -version\n",
    "\n",
    "# Install pyspark\n",
    "!pip install --ignore-installed -q pyspark==2.4.4\n",
    "# Install Spark OCR from PYPI using secret\n",
    "!python -m pip install --upgrade spark-ocr==$version  --extra-index-url https://pypi.johnsnowlabs.com/$secret\n",
    "\n",
    "# Install Spark NLP and Spark NLP JSL\n",
    "! pip install --ignore-installed -q spark-nlp\n",
    "!python -m pip install --upgrade spark-nlp-jsl==$jsl_version --extra-index-url https://pypi.johnsnowlabs.com/$jsl_secret\n"
   ]
  },
  {
   "cell_type": "markdown",
   "metadata": {
    "colab_type": "text",
    "id": "UMzHQ_DrsfxD"
   },
   "source": [
    "Importing Libraries"
   ]
  },
  {
   "cell_type": "code",
   "execution_count": null,
   "metadata": {
    "colab": {},
    "colab_type": "code",
    "executionInfo": {
     "elapsed": 96832,
     "status": "ok",
     "timestamp": 1598030916349,
     "user": {
      "displayName": "Hasham Ul Haq",
      "photoUrl": "",
      "userId": "10508284328555930330"
     },
     "user_tz": -300
    },
    "id": "sw1RJhxEtItB"
   },
   "outputs": [],
   "source": [
    "import pandas as pd\n",
    "import numpy as np\n",
    "import os\n",
    "\n",
    "#Pyspark Imports\n",
    "from pyspark.sql import SparkSession\n",
    "from pyspark.ml import PipelineModel\n",
    "from pyspark.sql import functions as F\n",
    "\n",
    "# Necessary imports from Spark OCR library\n",
    "from sparkocr import start\n",
    "from sparkocr.transformers import *\n",
    "from sparkocr.enums import *\n",
    "from sparkocr.utils import display_image, to_pil_image\n",
    "from sparkocr.metrics import score\n",
    "import pkg_resources\n",
    "\n",
    "# import sparknlp packages\n",
    "from sparknlp.annotator import *\n",
    "from sparknlp.base import *\n",
    "import sparknlp_jsl\n",
    "from sparknlp_jsl.annotator import *\n",
    "\n",
    "os.environ[\"JAVA_HOME\"] = \"/usr/lib/jvm/java-8-openjdk-amd64\"\n",
    "os.environ[\"PATH\"] = os.environ[\"JAVA_HOME\"] + \"/bin:\" + os.environ[\"PATH\"]\n"
   ]
  },
  {
   "cell_type": "markdown",
   "metadata": {
    "colab_type": "text",
    "id": "WrFEVaeCtTB4"
   },
   "source": [
    "Start Spark Session"
   ]
  },
  {
   "cell_type": "code",
   "execution_count": null,
   "metadata": {
    "colab": {
     "base_uri": "https://localhost:8080/",
     "height": 216
    },
    "colab_type": "code",
    "executionInfo": {
     "elapsed": 121743,
     "status": "ok",
     "timestamp": 1598030943293,
     "user": {
      "displayName": "Hasham Ul Haq",
      "photoUrl": "",
      "userId": "10508284328555930330"
     },
     "user_tz": -300
    },
    "id": "g6vXJJbctTNX",
    "outputId": "094fe4bb-63ee-420a-9fb2-948d324600c5"
   },
   "outputs": [],
   "source": [
    "spark = start(secret=secret,\n",
    "              nlp_secret=jsl_secret,\n",
    "              nlp_version=jsl_version,\n",
    "              nlp_internal=True)\n",
    "\n",
    "spark"
   ]
  },
  {
   "cell_type": "markdown",
   "metadata": {
    "colab_type": "text",
    "id": "a6xXe2TftJNe"
   },
   "source": [
    "# 2. Download and read PDF Document"
   ]
  },
  {
   "cell_type": "code",
   "execution_count": null,
   "metadata": {
    "colab": {
     "base_uri": "https://localhost:8080/",
     "height": 119
    },
    "colab_type": "code",
    "executionInfo": {
     "elapsed": 17000,
     "status": "ok",
     "timestamp": 1598031018566,
     "user": {
      "displayName": "Hasham Ul Haq",
      "photoUrl": "",
      "userId": "10508284328555930330"
     },
     "user_tz": -300
    },
    "id": "F0pmFfXbthlp",
    "outputId": "e37d7f7c-16a8-47f1-9653-912f4b8566af"
   },
   "outputs": [],
   "source": [
    "pdf_example = pkg_resources.resource_filename('sparkocr', 'resources/ocr/pdfs/test_document.pdf')\n",
    "pdf_example_df = spark.read.format(\"binaryFile\").load(pdf_example).cache()\n",
    "pdf_example_df.show()"
   ]
  },
  {
   "cell_type": "markdown",
   "metadata": {
    "colab_type": "text",
    "id": "W1nZn-XXtmow"
   },
   "source": [
    "Convert & View PDF as images"
   ]
  },
  {
   "cell_type": "code",
   "execution_count": null,
   "metadata": {
    "colab": {
     "base_uri": "https://localhost:8080/",
     "height": 1000,
     "output_embedded_package_id": "1wOjmX9EyHgu6-PSD6vLVqSSkkwYybOhY"
    },
    "colab_type": "code",
    "executionInfo": {
     "elapsed": 24770,
     "status": "ok",
     "timestamp": 1598031259087,
     "user": {
      "displayName": "Hasham Ul Haq",
      "photoUrl": "",
      "userId": "10508284328555930330"
     },
     "user_tz": -300
    },
    "id": "OLbx1vmRto2Y",
    "outputId": "c811f7cf-e043-450e-d218-e7aa77bccd8c"
   },
   "outputs": [],
   "source": [
    "for image in PdfToImage().transform(pdf_example_df).collect():\n",
    "  #print(image.exception)\n",
    "  #print(image.metadata)\n",
    "  display_image(image.image)"
   ]
  },
  {
   "cell_type": "markdown",
   "metadata": {
    "colab_type": "text",
    "id": "XsfuE4ottadW"
   },
   "source": [
    "# 3. Construct OCR and DEID (NLP) Pipelines"
   ]
  },
  {
   "cell_type": "markdown",
   "metadata": {
    "colab_type": "text",
    "id": "FtAikNkm-DbY"
   },
   "source": [
    "De-identification Pipeline"
   ]
  },
  {
   "cell_type": "code",
   "execution_count": null,
   "metadata": {
    "colab": {},
    "colab_type": "code",
    "executionInfo": {
     "elapsed": 1498,
     "status": "ok",
     "timestamp": 1598031267781,
     "user": {
      "displayName": "Hasham Ul Haq",
      "photoUrl": "",
      "userId": "10508284328555930330"
     },
     "user_tz": -300
    },
    "id": "vC1qHGVxsd4d"
   },
   "outputs": [],
   "source": [
    "def deidentification_nlp_pipeline(input_column, prefix = \"\"):\n",
    "    document_assembler = DocumentAssembler() \\\n",
    "        .setInputCol(input_column) \\\n",
    "        .setOutputCol(prefix + \"document\")\n",
    "\n",
    "    # Sentence Detector annotator, processes various sentences per line\n",
    "    sentence_detector = SentenceDetector() \\\n",
    "        .setInputCols([prefix + \"document\"]) \\\n",
    "        .setOutputCol(prefix + \"sentence\")\n",
    "\n",
    "    tokenizer = Tokenizer() \\\n",
    "        .setInputCols([prefix + \"sentence\"]) \\\n",
    "        .setOutputCol(prefix + \"token\")\n",
    "\n",
    "    # Clinical word embeddings\n",
    "    word_embeddings = WordEmbeddingsModel.pretrained(\"embeddings_clinical\", \"en\", \"clinical/models\") \\\n",
    "        .setInputCols([prefix + \"sentence\", prefix + \"token\"]) \\\n",
    "        .setOutputCol(prefix + \"embeddings\")\n",
    "    # NER model trained on i2b2 (sampled from MIMIC) dataset\n",
    "    clinical_ner = NerDLModel.pretrained(\"ner_deid_large\", \"en\", \"clinical/models\") \\\n",
    "        .setInputCols([prefix + \"sentence\", prefix + \"token\", prefix + \"embeddings\"]) \\\n",
    "        .setOutputCol(prefix + \"ner\")\n",
    "\n",
    "    custom_ner_converter = NerConverter() \\\n",
    "        .setInputCols([prefix + \"sentence\", prefix + \"token\", prefix + \"ner\"]) \\\n",
    "        .setOutputCol(prefix + \"ner_chunk\") \\\n",
    "        .setWhiteList(['NAME', 'AGE', 'CONTACT',\n",
    "                   'LOCATION', 'PROFESSION', 'PERSON'])\n",
    "\n",
    "    nlp_pipeline = Pipeline(stages=[\n",
    "            document_assembler,\n",
    "            sentence_detector,\n",
    "            tokenizer,\n",
    "            word_embeddings,\n",
    "            clinical_ner,\n",
    "            custom_ner_converter\n",
    "        ])\n",
    "    empty_data = spark.createDataFrame([[\"\"]]).toDF(input_column)\n",
    "    nlp_model = nlp_pipeline.fit(empty_data)\n",
    "    return nlp_model"
   ]
  },
  {
   "cell_type": "markdown",
   "metadata": {
    "colab_type": "text",
    "id": "8oMgKuEh-G8P"
   },
   "source": [
    "OCR and PDF to Image Conversion Pipeline."
   ]
  },
  {
   "cell_type": "code",
   "execution_count": null,
   "metadata": {
    "colab": {
     "base_uri": "https://localhost:8080/",
     "height": 119
    },
    "colab_type": "code",
    "executionInfo": {
     "elapsed": 125272,
     "status": "ok",
     "timestamp": 1598031393621,
     "user": {
      "displayName": "Hasham Ul Haq",
      "photoUrl": "",
      "userId": "10508284328555930330"
     },
     "user_tz": -300
    },
    "id": "37FLLrrc9aPp",
    "outputId": "e6a6a583-422c-46ed-a743-726c0469b23c"
   },
   "outputs": [],
   "source": [
    "# Extract images from Dicom foram\n",
    "# If text PDF extract text\n",
    "pdf_to_text = PdfToText() \\\n",
    "    .setInputCol(\"content\") \\\n",
    "    .setOutputCol(\"text\") \\\n",
    "    .setSplitPage(False)\n",
    "\n",
    "# If image pdf, extract image\n",
    "pdf_to_image = PdfToImage() \\\n",
    "    .setInputCol(\"content\") \\\n",
    "    .setOutputCol(\"image_raw\") \\\n",
    "    .setKeepInput(True)\n",
    "\n",
    "# Extract text from image\n",
    "ocr = ImageToText() \\\n",
    "    .setInputCol(\"image_raw\") \\\n",
    "    .setOutputCol(\"text\") \\\n",
    "    .setIgnoreResolution(False) \\\n",
    "    .setOcrParams([\"preserve_interword_spaces=0\"])\n",
    "\n",
    "\n",
    "# Find coordinates of sensitive data\n",
    "position_finder = PositionFinder() \\\n",
    "    .setInputCols(\"ner_chunk\") \\\n",
    "    .setOutputCol(\"coordinates\") \\\n",
    "    .setPageMatrixCol(\"positions\") \\\n",
    "    .setMatchingWindow(10) \\\n",
    "    .setPadding(0)\n",
    "\n",
    "# Draw filled rectangle to hide sensitive data\n",
    "draw_regions = ImageDrawRegions()  \\\n",
    "    .setInputCol(\"image_raw\")  \\\n",
    "    .setInputRegionsCol(\"coordinates\")  \\\n",
    "    .setOutputCol(\"image_with_regions\")  \\\n",
    "    .setFilledRect(True)\n",
    "\n",
    "# Store image back to pdf\n",
    "image_to_pdf = ImageToPdf() \\\n",
    "        .setInputCol(\"image_with_regions\") \\\n",
    "        .setOutputCol(\"pdf\")\n",
    "\n",
    "# OCR pipeline\n",
    "pipeline = PipelineModel(stages=[\n",
    "    pdf_to_text,\n",
    "    pdf_to_image,\n",
    "    ocr,\n",
    "    deidentification_nlp_pipeline(input_column=\"text\"),\n",
    "    position_finder,\n",
    "    draw_regions,\n",
    "    image_to_pdf\n",
    "])"
   ]
  },
  {
   "cell_type": "markdown",
   "metadata": {
    "colab_type": "text",
    "id": "iHtbySQu-LCR"
   },
   "source": [
    "# 4. Run the pipelines and save De-identified PDF Document"
   ]
  },
  {
   "cell_type": "markdown",
   "metadata": {
    "colab_type": "text",
    "id": "pjSpEyhvJtre"
   },
   "source": [
    "Run Pipeline"
   ]
  },
  {
   "cell_type": "code",
   "execution_count": null,
   "metadata": {
    "colab": {},
    "colab_type": "code",
    "executionInfo": {
     "elapsed": 2586,
     "status": "ok",
     "timestamp": 1598032396999,
     "user": {
      "displayName": "Hasham Ul Haq",
      "photoUrl": "",
      "userId": "10508284328555930330"
     },
     "user_tz": -300
    },
    "id": "BTatU7EHJo4j"
   },
   "outputs": [],
   "source": [
    "result = pipeline.transform(pdf_example_df).cache()"
   ]
  },
  {
   "cell_type": "markdown",
   "metadata": {
    "colab_type": "text",
    "id": "TPUYrQzxJvQA"
   },
   "source": [
    "Save PDF"
   ]
  },
  {
   "cell_type": "code",
   "execution_count": null,
   "metadata": {
    "colab": {},
    "colab_type": "code",
    "executionInfo": {
     "elapsed": 51555,
     "status": "ok",
     "timestamp": 1598032448266,
     "user": {
      "displayName": "Hasham Ul Haq",
      "photoUrl": "",
      "userId": "10508284328555930330"
     },
     "user_tz": -300
    },
    "id": "3tWKnJRz9vHL"
   },
   "outputs": [],
   "source": [
    "pdf = result.select(\"pdf\").head().pdf\n",
    "pdfFile = open(\"Result.pdf\", \"wb\")\n",
    "pdfFile.write(pdf)\n",
    "pdfFile.close()"
   ]
  },
  {
   "cell_type": "markdown",
   "metadata": {
    "colab_type": "text",
    "id": "UrwYnqwj-fC4"
   },
   "source": [
    "# 5. Load De-identified PDF and Visualize Results"
   ]
  },
  {
   "cell_type": "code",
   "execution_count": null,
   "metadata": {
    "colab": {},
    "colab_type": "code",
    "executionInfo": {
     "elapsed": 86408,
     "status": "ok",
     "timestamp": 1598032648896,
     "user": {
      "displayName": "Hasham Ul Haq",
      "photoUrl": "",
      "userId": "10508284328555930330"
     },
     "user_tz": -300
    },
    "id": "_cb7bW64-eZ-"
   },
   "outputs": [],
   "source": [
    "pdf_example_df = spark.read.format(\"binaryFile\").load(\"Result.pdf\")\n",
    "for image in PdfToImage().transform(pdf_example_df).collect():\n",
    "  #print(image.exception)\n",
    "  #print(image.metadata)\n",
    "  display_image(image.image)"
   ]
  }
 ],
 "metadata": {
  "colab": {
   "authorship_tag": "ABX9TyPOinPUrEs/mcnlMVnO0kdt",
   "collapsed_sections": [],
   "name": "DEID_PDF.ipynb",
   "provenance": [],
   "toc_visible": true
  },
  "kernelspec": {
   "display_name": "Python 3",
   "name": "python3"
  }
 },
 "nbformat": 4,
 "nbformat_minor": 0
}
