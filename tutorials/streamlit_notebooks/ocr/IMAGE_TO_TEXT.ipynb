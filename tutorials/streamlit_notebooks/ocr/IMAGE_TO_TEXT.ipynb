{
 "cells": [
  {
   "cell_type": "markdown",
   "metadata": {
    "colab_type": "text",
    "id": "w-pyfWT3a6S4"
   },
   "source": [
    "![JohnSnowLabs](https://nlp.johnsnowlabs.com/assets/images/logo.png)\n",
    "\n",
    "[![Open In Colab](https://colab.research.google.com/assets/colab-badge.svg)](https://colab.research.google.com/github/JohnSnowLabs/spark-nlp-workshop/blob/master/tutorials/streamlit_notebooks/ocr/IMAGE_TO_TEXT.ipynb)"
   ]
  },
  {
   "cell_type": "markdown",
   "metadata": {
    "colab_type": "text",
    "id": "NWU8Tl9Fa3eT"
   },
   "source": [
    "# Image to text"
   ]
  },
  {
   "cell_type": "markdown",
   "metadata": {
    "colab_type": "text",
    "id": "8DtUIwnIa3eU"
   },
   "source": [
    "To run this yourself, you will need to upload your **Spark OCR** license keys to the notebook. Otherwise, you can look at the example outputs at the bottom of the notebook. To upload license keys, open the file explorer on the left side of the screen and upload `workshop_license_keys.json` to the folder that opens."
   ]
  },
  {
   "cell_type": "markdown",
   "metadata": {
    "colab_type": "text",
    "id": "FAbRkMvtz-Gl"
   },
   "source": [
    "For more in-depth tutorials: https://github.com/JohnSnowLabs/spark-ocr-workshop/tree/master/jupyter"
   ]
  },
  {
   "cell_type": "markdown",
   "metadata": {
    "colab_type": "text",
    "id": "xdROQW5ScYKA"
   },
   "source": [
    "## 1. Colab Setup"
   ]
  },
  {
   "cell_type": "markdown",
   "metadata": {
    "colab_type": "text",
    "id": "x78T5abRkFaW"
   },
   "source": [
    "Install correct version of Pillow and Restart runtime"
   ]
  },
  {
   "cell_type": "code",
   "execution_count": null,
   "metadata": {
    "colab": {
     "base_uri": "https://localhost:8080/",
     "height": 34
    },
    "colab_type": "code",
    "executionInfo": {
     "elapsed": 1439,
     "status": "ok",
     "timestamp": 1597053392952,
     "user": {
      "displayName": "Hasham Ul Haq",
      "photoUrl": "",
      "userId": "10508284328555930330"
     },
     "user_tz": -300
    },
    "id": "0h4vKhQfkOqQ",
    "outputId": "b5bd1b74-3a17-44e2-fe4a-d4a27344cae3"
   },
   "outputs": [],
   "source": [
    "# Install correct Pillow version\n",
    "import PIL\n",
    "if PIL.__version__  != '6.2.1':\n",
    "  print ('Installing correct version of Pillow. Kernel will restart automatically')\n",
    "  !pip install --upgrade pillow==6.2.1\n",
    "  # hard restart runtime\n",
    "  import os\n",
    "  os.kill(os.getpid(), 9)\n",
    "else:\n",
    "  print ('Correct Pillow detected')"
   ]
  },
  {
   "cell_type": "markdown",
   "metadata": {
    "colab_type": "text",
    "id": "GeMJ4AoPkoMc"
   },
   "source": [
    "Read licence key"
   ]
  },
  {
   "cell_type": "code",
   "execution_count": null,
   "metadata": {
    "colab": {
     "base_uri": "https://localhost:8080/",
     "height": 51
    },
    "colab_type": "code",
    "executionInfo": {
     "elapsed": 1702,
     "status": "ok",
     "timestamp": 1597053396733,
     "user": {
      "displayName": "Hasham Ul Haq",
      "photoUrl": "",
      "userId": "10508284328555930330"
     },
     "user_tz": -300
    },
    "id": "fUeMlVj1a3eV",
    "outputId": "5f53284f-f8e9-498a-d446-0eb1bb555492"
   },
   "outputs": [],
   "source": [
    "import os\n",
    "import json\n",
    "\n",
    "with open('workshop_license_keys.json') as f:\n",
    "    license_keys = json.load(f)\n",
    "\n",
    "print (license_keys.keys())\n",
    "\n",
    "secret = license_keys['JSL_OCR_SECRET']\n",
    "os.environ['SPARK_OCR_LICENSE'] = license_keys['SPARK_OCR_LICENSE']\n",
    "os.environ['JSL_OCR_LICENSE'] = license_keys['SPARK_OCR_LICENSE']\n",
    "version = secret.split(\"-\")[0]\n",
    "print ('Spark OCR Version:', version)"
   ]
  },
  {
   "cell_type": "markdown",
   "metadata": {
    "colab_type": "text",
    "id": "74VqnE1reEFC"
   },
   "source": [
    "Install Dependencies"
   ]
  },
  {
   "cell_type": "code",
   "execution_count": null,
   "metadata": {
    "colab": {},
    "colab_type": "code",
    "id": "ErndQ8oea3eY"
   },
   "outputs": [],
   "source": [
    "# Install Java\n",
    "!apt-get update\n",
    "!apt-get install -y openjdk-8-jdk\n",
    "!java -version\n",
    "\n",
    "# Install pyspark, SparkOCR, and SparkNLP\n",
    "!pip install --ignore-installed -q pyspark==2.4.4\n",
    "# Insall Spark Ocr from pypi using secret\n",
    "!python -m pip install --upgrade spark-ocr==$version  --extra-index-url https://pypi.johnsnowlabs.com/$secret\n",
    "# or install from local path\n",
    "# %pip install --user ../../python/dist/spark-ocr-[version].tar.gz\n",
    "!pip install --ignore-installed -q spark-nlp==2.5.2"
   ]
  },
  {
   "cell_type": "markdown",
   "metadata": {
    "colab_type": "text",
    "id": "eVt8BQaaeGp5"
   },
   "source": [
    "Importing Libraries"
   ]
  },
  {
   "cell_type": "code",
   "execution_count": null,
   "metadata": {
    "colab": {},
    "colab_type": "code",
    "executionInfo": {
     "elapsed": 94754,
     "status": "ok",
     "timestamp": 1597053497584,
     "user": {
      "displayName": "Hasham Ul Haq",
      "photoUrl": "",
      "userId": "10508284328555930330"
     },
     "user_tz": -300
    },
    "id": "cn4in75Ha3eb"
   },
   "outputs": [],
   "source": [
    "import pandas as pd\n",
    "import numpy as np\n",
    "import os\n",
    "\n",
    "#Pyspark Imports\n",
    "from pyspark.sql import SparkSession\n",
    "from pyspark.ml import PipelineModel\n",
    "from pyspark.sql import functions as F\n",
    "\n",
    "# Necessary imports from Spark OCR library\n",
    "from sparkocr import start\n",
    "from sparkocr.transformers import *\n",
    "from sparkocr.enums import *\n",
    "from sparkocr.utils import display_image, to_pil_image\n",
    "from sparkocr.metrics import score\n",
    "import pkg_resources\n",
    "\n",
    "os.environ[\"JAVA_HOME\"] = \"/usr/lib/jvm/java-8-openjdk-amd64\"\n",
    "os.environ[\"PATH\"] = os.environ[\"JAVA_HOME\"] + \"/bin:\" + os.environ[\"PATH\"]\n"
   ]
  },
  {
   "cell_type": "markdown",
   "metadata": {
    "colab_type": "text",
    "id": "pmAnLt26eMHu"
   },
   "source": [
    "Start Spark Session"
   ]
  },
  {
   "cell_type": "code",
   "execution_count": null,
   "metadata": {
    "colab": {
     "base_uri": "https://localhost:8080/",
     "height": 216
    },
    "colab_type": "code",
    "executionInfo": {
     "elapsed": 101294,
     "status": "ok",
     "timestamp": 1597053505856,
     "user": {
      "displayName": "Hasham Ul Haq",
      "photoUrl": "",
      "userId": "10508284328555930330"
     },
     "user_tz": -300
    },
    "id": "BXtlGP0aa3ee",
    "outputId": "41d6f81e-142c-403f-955c-ba45b81fcde1"
   },
   "outputs": [],
   "source": [
    "spark = start(secret=secret)\n",
    "spark"
   ]
  },
  {
   "cell_type": "markdown",
   "metadata": {
    "colab_type": "text",
    "id": "x6caZBlia3et"
   },
   "source": [
    "## 2. Download and read scanned pdf image"
   ]
  },
  {
   "cell_type": "code",
   "execution_count": null,
   "metadata": {
    "colab": {},
    "colab_type": "code",
    "id": "Q6KK40-Q2NA0"
   },
   "outputs": [],
   "source": [
    "!wget https://image.slidesharecdn.com/editingscannedpdfdocuments-100816013015-phpapp01/95/editing-scanned-pdf-documents-1-728.jpg -O 1.jpg\n",
    "!wget https://www.reneelab.com/wp-content/uploads/sites/2/2015/11/target-500x600.png -O 2.jpg"
   ]
  },
  {
   "cell_type": "code",
   "execution_count": null,
   "metadata": {
    "colab": {
     "base_uri": "https://localhost:8080/",
     "height": 136
    },
    "colab_type": "code",
    "executionInfo": {
     "elapsed": 9625,
     "status": "ok",
     "timestamp": 1597054279433,
     "user": {
      "displayName": "Hasham Ul Haq",
      "photoUrl": "",
      "userId": "10508284328555930330"
     },
     "user_tz": -300
    },
    "id": "ApsEfUpfa3eu",
    "outputId": "93c3c028-0695-4c4a-e8d1-6ed0caafa1a4"
   },
   "outputs": [],
   "source": [
    "image_df = spark.read.format(\"binaryFile\").load('./*.jpg').cache()\n",
    "image_df.show()"
   ]
  },
  {
   "cell_type": "markdown",
   "metadata": {
    "colab_type": "text",
    "id": "mxZlmX-ieyqE"
   },
   "source": [
    "## 3. Construct the OCR pipeline"
   ]
  },
  {
   "cell_type": "code",
   "execution_count": null,
   "metadata": {
    "colab": {},
    "colab_type": "code",
    "executionInfo": {
     "elapsed": 1391,
     "status": "ok",
     "timestamp": 1597054310743,
     "user": {
      "displayName": "Hasham Ul Haq",
      "photoUrl": "",
      "userId": "10508284328555930330"
     },
     "user_tz": -300
    },
    "id": "f9vo_4vua3er"
   },
   "outputs": [],
   "source": [
    "# Read binary as image\n",
    "binary_to_image = BinaryToImage()\n",
    "binary_to_image.setInputCol('content')\n",
    "binary_to_image.setOutputCol('image')\n",
    "\n",
    "# Scale image\n",
    "scaler = ImageScaler()\n",
    "scaler.setInputCol('image')\n",
    "scaler.setOutputCol('scaled_image')\n",
    "scaler.setScaleFactor(2.0)\n",
    "\n",
    "# Binarize using adaptive tresholding\n",
    "binarizer = ImageAdaptiveThresholding()\n",
    "binarizer.setInputCol('scaled_image')\n",
    "binarizer.setOutputCol('binarized_image')\n",
    "binarizer.setBlockSize(91)\n",
    "binarizer.setOffset(70)\n",
    "\n",
    "# Remove extraneous objects from image\n",
    "remove_objects = ImageRemoveObjects()\n",
    "remove_objects.setInputCol('binarized_image')\n",
    "remove_objects.setOutputCol('cleared_image')\n",
    "remove_objects.setMinSizeObject(30)\n",
    "remove_objects.setMaxSizeObject(4000)\n",
    "\n",
    "# Apply morphology opening\n",
    "morpholy_operation = ImageMorphologyOperation()\n",
    "morpholy_operation.setKernelShape(KernelShape.DISK)\n",
    "morpholy_operation.setKernelSize(1)\n",
    "morpholy_operation.setOperation('closing')\n",
    "morpholy_operation.setInputCol('cleared_image')\n",
    "morpholy_operation.setOutputCol('corrected_image')\n",
    "\n",
    "# Extract text from corrected image with OCR\n",
    "ocr = ImageToText()\n",
    "ocr.setInputCol('binarized_image')\n",
    "ocr.setOutputCol('text')\n",
    "ocr.setConfidenceThreshold(50)\n",
    "ocr.setIgnoreResolution(False)\n",
    "\n",
    "# Create pipeline\n",
    "pipeline = PipelineModel(stages=[\n",
    "    binary_to_image,\n",
    "    scaler,\n",
    "    binarizer,\n",
    "    remove_objects,\n",
    "    morpholy_operation,\n",
    "    ocr\n",
    "])"
   ]
  },
  {
   "cell_type": "markdown",
   "metadata": {
    "colab_type": "text",
    "id": "vd74DK4ha3ew"
   },
   "source": [
    "## 4. Run OCR pipeline"
   ]
  },
  {
   "cell_type": "code",
   "execution_count": null,
   "metadata": {
    "colab": {},
    "colab_type": "code",
    "executionInfo": {
     "elapsed": 4423,
     "status": "ok",
     "timestamp": 1597054318628,
     "user": {
      "displayName": "Hasham Ul Haq",
      "photoUrl": "",
      "userId": "10508284328555930330"
     },
     "user_tz": -300
    },
    "id": "o5Wh9ysOa3ew"
   },
   "outputs": [],
   "source": [
    "result = pipeline.transform(image_df).cache()"
   ]
  },
  {
   "cell_type": "markdown",
   "metadata": {
    "colab_type": "text",
    "id": "_uC_egLWa3ez"
   },
   "source": [
    "## 5. Visualize Results"
   ]
  },
  {
   "cell_type": "markdown",
   "metadata": {
    "colab_type": "text",
    "id": "wyIew0rVgnPM"
   },
   "source": [
    "Display result dataframe"
   ]
  },
  {
   "cell_type": "code",
   "execution_count": null,
   "metadata": {
    "colab": {
     "base_uri": "https://localhost:8080/",
     "height": 170
    },
    "colab_type": "code",
    "executionInfo": {
     "elapsed": 21170,
     "status": "ok",
     "timestamp": 1597054337114,
     "user": {
      "displayName": "Hasham Ul Haq",
      "photoUrl": "",
      "userId": "10508284328555930330"
     },
     "user_tz": -300
    },
    "id": "dCOLYbB5a3ez",
    "outputId": "b0d6b4fd-3ce6-44e5-a998-b8106f1e2013"
   },
   "outputs": [],
   "source": [
    "result.select(\"text\", \"confidence\").show()"
   ]
  },
  {
   "cell_type": "markdown",
   "metadata": {
    "colab_type": "text",
    "id": "2C_VFRVIa3e6"
   },
   "source": [
    "Display text and images"
   ]
  },
  {
   "cell_type": "code",
   "execution_count": null,
   "metadata": {
    "colab": {
     "base_uri": "https://localhost:8080/",
     "height": 1000
    },
    "colab_type": "code",
    "executionInfo": {
     "elapsed": 11696,
     "status": "ok",
     "timestamp": 1597054463273,
     "user": {
      "displayName": "Hasham Ul Haq",
      "photoUrl": "",
      "userId": "10508284328555930330"
     },
     "user_tz": -300
    },
    "id": "hJZGPMJna3e6",
    "outputId": "d5f3194e-e254-49fb-9783-a2e26434117e"
   },
   "outputs": [],
   "source": [
    "for r in result.distinct().collect():\n",
    "  display_image(r.image)\n",
    "  print (r.text)"
   ]
  },
  {
   "cell_type": "markdown",
   "metadata": {
    "colab_type": "text",
    "id": "CSz6OPxn3d-r"
   },
   "source": [
    "Saving intermediate processing results as jpg"
   ]
  },
  {
   "cell_type": "code",
   "execution_count": null,
   "metadata": {
    "colab": {},
    "colab_type": "code",
    "executionInfo": {
     "elapsed": 5142,
     "status": "ok",
     "timestamp": 1597054585175,
     "user": {
      "displayName": "Hasham Ul Haq",
      "photoUrl": "",
      "userId": "10508284328555930330"
     },
     "user_tz": -300
    },
    "id": "aZYtShk6m00P"
   },
   "outputs": [],
   "source": [
    "for r in result.distinct().collect():\n",
    "\n",
    "    img = to_pil_image(r.binarized_image, r.binarized_image.mode)\n",
    "    img.save('img_binarized.jpg')\n"
   ]
  }
 ],
 "metadata": {
  "colab": {
   "collapsed_sections": [],
   "name": "IMAGE_TO_TEXT.ipynb",
   "provenance": [],
   "toc_visible": true
  },
  "kernelspec": {
   "display_name": "Python 3",
   "language": "python",
   "name": "python3"
  },
  "language_info": {
   "codemirror_mode": {
    "name": "ipython",
    "version": 3
   },
   "file_extension": ".py",
   "mimetype": "text/x-python",
   "name": "python",
   "nbconvert_exporter": "python",
   "pygments_lexer": "ipython3",
   "version": "3.7.7"
  }
 },
 "nbformat": 4,
 "nbformat_minor": 0
}
