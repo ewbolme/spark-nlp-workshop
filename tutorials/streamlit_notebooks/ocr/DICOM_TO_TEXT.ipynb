{
 "cells": [
  {
   "cell_type": "markdown",
   "metadata": {
    "colab_type": "text",
    "id": "w-pyfWT3a6S4"
   },
   "source": [
    "![JohnSnowLabs](https://nlp.johnsnowlabs.com/assets/images/logo.png)\n",
    "\n",
    "[![Open In Colab](https://colab.research.google.com/assets/colab-badge.svg)](https://colab.research.google.com/github/JohnSnowLabs/spark-nlp-workshop/blob/master/tutorials/streamlit_notebooks/ocr/DICOM_TO_TEXT.ipynb)"
   ]
  },
  {
   "cell_type": "markdown",
   "metadata": {
    "colab_type": "text",
    "id": "NWU8Tl9Fa3eT"
   },
   "source": [
    "# DICOM to Text\n",
    "Recognize text and extract metada from DICOM format documents."
   ]
  },
  {
   "cell_type": "markdown",
   "metadata": {
    "colab_type": "text",
    "id": "8DtUIwnIa3eU"
   },
   "source": [
    "To run this yourself, you will need to upload your **Spark OCR** license keys to the notebook. Otherwise, you can look at the example outputs at the bottom of the notebook. To upload license keys, open the file explorer on the left side of the screen and upload `workshop_license_keys.json` to the folder that opens."
   ]
  },
  {
   "cell_type": "markdown",
   "metadata": {
    "colab_type": "text",
    "id": "vPh2Yckh0I71"
   },
   "source": [
    "For more in-depth tutorials: https://github.com/JohnSnowLabs/spark-ocr-workshop/tree/master/jupyter"
   ]
  },
  {
   "cell_type": "markdown",
   "metadata": {
    "colab_type": "text",
    "id": "xdROQW5ScYKA"
   },
   "source": [
    "## 1. Colab Setup"
   ]
  },
  {
   "cell_type": "markdown",
   "metadata": {
    "colab_type": "text",
    "id": "x78T5abRkFaW"
   },
   "source": [
    "Install correct version of Pillow and Restart runtime"
   ]
  },
  {
   "cell_type": "code",
   "execution_count": null,
   "metadata": {
    "colab": {
     "base_uri": "https://localhost:8080/",
     "height": 34
    },
    "colab_type": "code",
    "executionInfo": {
     "elapsed": 2931,
     "status": "ok",
     "timestamp": 1597051069281,
     "user": {
      "displayName": "Hasham Ul Haq",
      "photoUrl": "",
      "userId": "10508284328555930330"
     },
     "user_tz": -300
    },
    "id": "0h4vKhQfkOqQ",
    "outputId": "be2e8489-62c1-4321-9e75-9dbe2c7ebcc8"
   },
   "outputs": [],
   "source": [
    "# Install correct Pillow version\n",
    "import PIL\n",
    "if PIL.__version__  != '6.2.1':\n",
    "  print ('Installing correct version of Pillow. Kernel will restart automatically')\n",
    "  !pip install --upgrade pillow==6.2.1\n",
    "  # hard restart runtime\n",
    "  import os\n",
    "  os.kill(os.getpid(), 9)\n",
    "else:\n",
    "  print ('Correct Pillow detected')"
   ]
  },
  {
   "cell_type": "markdown",
   "metadata": {
    "colab_type": "text",
    "id": "GeMJ4AoPkoMc"
   },
   "source": [
    "Read licence key"
   ]
  },
  {
   "cell_type": "code",
   "execution_count": null,
   "metadata": {
    "colab": {
     "base_uri": "https://localhost:8080/",
     "height": 51
    },
    "colab_type": "code",
    "executionInfo": {
     "elapsed": 2480,
     "status": "ok",
     "timestamp": 1597051093730,
     "user": {
      "displayName": "Hasham Ul Haq",
      "photoUrl": "",
      "userId": "10508284328555930330"
     },
     "user_tz": -300
    },
    "id": "fUeMlVj1a3eV",
    "outputId": "d8c44039-98de-4038-9c36-f486c8b72305"
   },
   "outputs": [],
   "source": [
    "import os\n",
    "import json\n",
    "\n",
    "with open('workshop_license_keys.json') as f:\n",
    "    license_keys = json.load(f)\n",
    "\n",
    "print (license_keys.keys())\n",
    "\n",
    "secret = license_keys['JSL_OCR_SECRET']\n",
    "os.environ['SPARK_OCR_LICENSE'] = license_keys['SPARK_OCR_LICENSE']\n",
    "os.environ['JSL_OCR_LICENSE'] = license_keys['SPARK_OCR_LICENSE']\n",
    "version = secret.split(\"-\")[0]\n",
    "print ('Spark OCR Version:', version)"
   ]
  },
  {
   "cell_type": "markdown",
   "metadata": {
    "colab_type": "text",
    "id": "74VqnE1reEFC"
   },
   "source": [
    "Install Dependencies"
   ]
  },
  {
   "cell_type": "code",
   "execution_count": null,
   "metadata": {
    "colab": {},
    "colab_type": "code",
    "id": "ErndQ8oea3eY"
   },
   "outputs": [],
   "source": [
    "# Install Java\n",
    "!apt-get update\n",
    "!apt-get install -y openjdk-8-jdk\n",
    "!java -version\n",
    "\n",
    "# Install pyspark, SparkOCR, and SparkNLP\n",
    "!pip install --ignore-installed -q pyspark==2.4.4\n",
    "# Insall Spark Ocr from pypi using secret\n",
    "!python -m pip install --upgrade spark-ocr==$version  --extra-index-url https://pypi.johnsnowlabs.com/$secret\n",
    "# or install from local path\n",
    "# %pip install --user ../../python/dist/spark-ocr-[version].tar.gz\n",
    "!pip install --ignore-installed -q spark-nlp==2.5.2"
   ]
  },
  {
   "cell_type": "markdown",
   "metadata": {
    "colab_type": "text",
    "id": "eVt8BQaaeGp5"
   },
   "source": [
    "Importing Libraries"
   ]
  },
  {
   "cell_type": "code",
   "execution_count": null,
   "metadata": {
    "colab": {},
    "colab_type": "code",
    "id": "cn4in75Ha3eb"
   },
   "outputs": [],
   "source": [
    "import pandas as pd\n",
    "import numpy as np\n",
    "import os\n",
    "\n",
    "#Pyspark Imports\n",
    "from pyspark.sql import SparkSession\n",
    "from pyspark.ml import PipelineModel\n",
    "from pyspark.sql import functions as F\n",
    "\n",
    "# Necessary imports from Spark OCR library\n",
    "from sparkocr import start\n",
    "from sparkocr.transformers import *\n",
    "from sparkocr.enums import *\n",
    "from sparkocr.utils import display_image, to_pil_image\n",
    "from sparkocr.metrics import score\n",
    "import pkg_resources\n",
    "\n",
    "os.environ[\"JAVA_HOME\"] = \"/usr/lib/jvm/java-8-openjdk-amd64\"\n",
    "os.environ[\"PATH\"] = os.environ[\"JAVA_HOME\"] + \"/bin:\" + os.environ[\"PATH\"]\n"
   ]
  },
  {
   "cell_type": "markdown",
   "metadata": {
    "colab_type": "text",
    "id": "pmAnLt26eMHu"
   },
   "source": [
    "Start Spark Session"
   ]
  },
  {
   "cell_type": "code",
   "execution_count": null,
   "metadata": {
    "colab": {
     "base_uri": "https://localhost:8080/",
     "height": 216
    },
    "colab_type": "code",
    "executionInfo": {
     "elapsed": 101438,
     "status": "ok",
     "timestamp": 1597051197862,
     "user": {
      "displayName": "Hasham Ul Haq",
      "photoUrl": "",
      "userId": "10508284328555930330"
     },
     "user_tz": -300
    },
    "id": "BXtlGP0aa3ee",
    "outputId": "d50a13a9-d2a6-414e-b798-6c0481fcfe93"
   },
   "outputs": [],
   "source": [
    "spark = start(secret=secret)\n",
    "spark"
   ]
  },
  {
   "cell_type": "markdown",
   "metadata": {
    "colab_type": "text",
    "id": "x6caZBlia3et"
   },
   "source": [
    "## 2. Download and read DICOM image"
   ]
  },
  {
   "cell_type": "markdown",
   "metadata": {
    "colab_type": "text",
    "id": "BVCdWHfuwli7"
   },
   "source": [
    "download image"
   ]
  },
  {
   "cell_type": "code",
   "execution_count": null,
   "metadata": {
    "colab": {
     "base_uri": "https://localhost:8080/",
     "height": 309
    },
    "colab_type": "code",
    "executionInfo": {
     "elapsed": 9529,
     "status": "ok",
     "timestamp": 1597052773933,
     "user": {
      "displayName": "Hasham Ul Haq",
      "photoUrl": "",
      "userId": "10508284328555930330"
     },
     "user_tz": -300
    },
    "id": "ZwmQmnUPwkZI",
    "outputId": "ed26e7f7-7f0c-429e-f7a4-4b4e5b01f7d4"
   },
   "outputs": [],
   "source": [
    "!wget https://github.com/JohnSnowLabs/spark-ocr-workshop/raw/master/jupyter/data/dicom/deidentify-medical-1.dcm -O image.dcm"
   ]
  },
  {
   "cell_type": "code",
   "execution_count": null,
   "metadata": {
    "colab": {
     "base_uri": "https://localhost:8080/",
     "height": 119
    },
    "colab_type": "code",
    "executionInfo": {
     "elapsed": 4588,
     "status": "ok",
     "timestamp": 1597052801819,
     "user": {
      "displayName": "Hasham Ul Haq",
      "photoUrl": "",
      "userId": "10508284328555930330"
     },
     "user_tz": -300
    },
    "id": "ApsEfUpfa3eu",
    "outputId": "66b48a7d-e8c8-4b73-a757-3b9b7a27a72a"
   },
   "outputs": [],
   "source": [
    "image_df = spark.read.format(\"binaryFile\").load('image.dcm').cache()\n",
    "image_df.show()"
   ]
  },
  {
   "cell_type": "markdown",
   "metadata": {
    "colab_type": "text",
    "id": "mxZlmX-ieyqE"
   },
   "source": [
    "## 3. Construct the OCR pipeline"
   ]
  },
  {
   "cell_type": "code",
   "execution_count": null,
   "metadata": {
    "colab": {},
    "colab_type": "code",
    "id": "f9vo_4vua3er"
   },
   "outputs": [],
   "source": [
    "# Extract images from Dicom format\n",
    "dicom_to_image = DicomToImage() \\\n",
    "    .setInputCol(\"content\") \\\n",
    "    .setOutputCol(\"image_raw\") \\\n",
    "    .setMetadataCol(\"metadata\") \\\n",
    "    .setDeIdentifyMetadata(True)\n",
    "\n",
    "# Extract text from image\n",
    "ocr = ImageToText() \\\n",
    "    .setInputCol(\"image_raw\") \\\n",
    "    .setOutputCol(\"text\") \\\n",
    "    .setIgnoreResolution(False) \\\n",
    "    .setOcrParams([\"preserve_interword_spaces=0\"])\n",
    "\n",
    "\n",
    "# OCR pipeline\n",
    "pipeline = PipelineModel(stages=[\n",
    "    dicom_to_image,\n",
    "    ocr\n",
    "])\n"
   ]
  },
  {
   "cell_type": "markdown",
   "metadata": {
    "colab_type": "text",
    "id": "vd74DK4ha3ew"
   },
   "source": [
    "## 4. Run OCR pipeline"
   ]
  },
  {
   "cell_type": "code",
   "execution_count": null,
   "metadata": {
    "colab": {},
    "colab_type": "code",
    "id": "o5Wh9ysOa3ew"
   },
   "outputs": [],
   "source": [
    "result = pipeline.transform(image_df).cache()"
   ]
  },
  {
   "cell_type": "markdown",
   "metadata": {
    "colab_type": "text",
    "id": "_uC_egLWa3ez"
   },
   "source": [
    "## 5. Visualize Results"
   ]
  },
  {
   "cell_type": "markdown",
   "metadata": {
    "colab_type": "text",
    "id": "wyIew0rVgnPM"
   },
   "source": [
    "Display result dataframe"
   ]
  },
  {
   "cell_type": "code",
   "execution_count": null,
   "metadata": {
    "colab": {
     "base_uri": "https://localhost:8080/",
     "height": 153
    },
    "colab_type": "code",
    "executionInfo": {
     "elapsed": 5172,
     "status": "ok",
     "timestamp": 1597052817859,
     "user": {
      "displayName": "Hasham Ul Haq",
      "photoUrl": "",
      "userId": "10508284328555930330"
     },
     "user_tz": -300
    },
    "id": "dCOLYbB5a3ez",
    "outputId": "8317ff1b-e38b-4f6b-e319-89b7e4dca90d"
   },
   "outputs": [],
   "source": [
    "result.select(\"text\", \"confidence\").show()"
   ]
  },
  {
   "cell_type": "markdown",
   "metadata": {
    "colab_type": "text",
    "id": "N1550yvaa3e4"
   },
   "source": [
    "Display dicom image, extracted text and metadata, and save dicom image as jpg"
   ]
  },
  {
   "cell_type": "code",
   "execution_count": null,
   "metadata": {
    "colab": {
     "base_uri": "https://localhost:8080/",
     "height": 1000
    },
    "colab_type": "code",
    "executionInfo": {
     "elapsed": 5715,
     "status": "ok",
     "timestamp": 1597053250845,
     "user": {
      "displayName": "Hasham Ul Haq",
      "photoUrl": "",
      "userId": "10508284328555930330"
     },
     "user_tz": -300
    },
    "id": "uOE4HZY9a3e4",
    "outputId": "556ad19d-f3fa-4153-a88b-74edc0e3e350"
   },
   "outputs": [],
   "source": [
    "for r in result.distinct().collect():\n",
    "  display_image(r.image_raw)\n",
    "  print (r.text)\n",
    "  print (r.metadata)\n",
    "  img = to_pil_image(r.image_raw, r.image_raw.mode)\n",
    "  img.save('image.jpg')"
   ]
  }
 ],
 "metadata": {
  "colab": {
   "collapsed_sections": [],
   "name": "DICOM_TO_TEXT.ipynb",
   "provenance": [],
   "toc_visible": true
  },
  "kernelspec": {
   "display_name": "Python 3",
   "language": "python",
   "name": "python3"
  },
  "language_info": {
   "codemirror_mode": {
    "name": "ipython",
    "version": 3
   },
   "file_extension": ".py",
   "mimetype": "text/x-python",
   "name": "python",
   "nbconvert_exporter": "python",
   "pygments_lexer": "ipython3",
   "version": "3.7.7"
  }
 },
 "nbformat": 4,
 "nbformat_minor": 0
}
