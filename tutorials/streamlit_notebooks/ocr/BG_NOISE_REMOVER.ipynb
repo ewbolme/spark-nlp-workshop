{
 "cells": [
  {
   "cell_type": "markdown",
   "metadata": {
    "colab_type": "text",
    "id": "w-pyfWT3a6S4"
   },
   "source": [
    "![JohnSnowLabs](https://nlp.johnsnowlabs.com/assets/images/logo.png)\n",
    "\n",
    "[![Open In Colab](https://colab.research.google.com/assets/colab-badge.svg)](https://colab.research.google.com/github/JohnSnowLabs/spark-nlp-workshop/blob/master/tutorials/streamlit_notebooks/ocr/BG_NOISE_REMOVER.ipynb)"
   ]
  },
  {
   "cell_type": "markdown",
   "metadata": {
    "colab_type": "text",
    "id": "NWU8Tl9Fa3eT"
   },
   "source": [
    "# Remove background noise from scanned documents"
   ]
  },
  {
   "cell_type": "markdown",
   "metadata": {
    "colab_type": "text",
    "id": "8DtUIwnIa3eU"
   },
   "source": [
    "To run this yourself, you will need to upload your **Spark OCR** license keys to the notebook. Otherwise, you can look at the example outputs at the bottom of the notebook. To upload license keys, open the file explorer on the left side of the screen and upload `workshop_license_keys.json` to the folder that opens."
   ]
  },
  {
   "cell_type": "markdown",
   "metadata": {
    "colab_type": "text",
    "id": "Q5ZqQ6dZ0Hw-"
   },
   "source": [
    "For more in-depth tutorials: https://github.com/JohnSnowLabs/spark-ocr-workshop/tree/master/jupyter"
   ]
  },
  {
   "cell_type": "markdown",
   "metadata": {
    "colab_type": "text",
    "id": "xdROQW5ScYKA"
   },
   "source": [
    "## 1. Colab Setup"
   ]
  },
  {
   "cell_type": "markdown",
   "metadata": {
    "colab_type": "text",
    "id": "x78T5abRkFaW"
   },
   "source": [
    "Install correct version of Pillow and Restart runtime"
   ]
  },
  {
   "cell_type": "code",
   "execution_count": null,
   "metadata": {
    "colab": {
     "base_uri": "https://localhost:8080/",
     "height": 34
    },
    "colab_type": "code",
    "executionInfo": {
     "elapsed": 983,
     "status": "ok",
     "timestamp": 1597049898486,
     "user": {
      "displayName": "Hasham Ul Haq",
      "photoUrl": "",
      "userId": "10508284328555930330"
     },
     "user_tz": -300
    },
    "id": "0h4vKhQfkOqQ",
    "outputId": "9877ff67-b3eb-46f8-dfcd-6fb8e4d19b34"
   },
   "outputs": [],
   "source": [
    "# Install correct Pillow version\n",
    "import PIL\n",
    "if PIL.__version__  != '6.2.1':\n",
    "  print ('Installing correct version of Pillow. Kernel will restart automatically')\n",
    "  !pip install --upgrade pillow==6.2.1\n",
    "  # hard restart runtime\n",
    "  import os\n",
    "  os.kill(os.getpid(), 9)\n",
    "else:\n",
    "  print ('Correct Pillow detected')"
   ]
  },
  {
   "cell_type": "markdown",
   "metadata": {
    "colab_type": "text",
    "id": "GeMJ4AoPkoMc"
   },
   "source": [
    "Read licence key"
   ]
  },
  {
   "cell_type": "code",
   "execution_count": null,
   "metadata": {
    "colab": {
     "base_uri": "https://localhost:8080/",
     "height": 51
    },
    "colab_type": "code",
    "executionInfo": {
     "elapsed": 969,
     "status": "ok",
     "timestamp": 1597049927817,
     "user": {
      "displayName": "Hasham Ul Haq",
      "photoUrl": "",
      "userId": "10508284328555930330"
     },
     "user_tz": -300
    },
    "id": "fUeMlVj1a3eV",
    "outputId": "b2ff9762-d652-4be5-81b8-d262983b9e07"
   },
   "outputs": [],
   "source": [
    "import os\n",
    "import json\n",
    "\n",
    "with open('workshop_license_keys.json') as f:\n",
    "    license_keys = json.load(f)\n",
    "\n",
    "print (license_keys.keys())\n",
    "\n",
    "secret = license_keys['JSL_OCR_SECRET']\n",
    "os.environ['SPARK_OCR_LICENSE'] = license_keys['SPARK_OCR_LICENSE']\n",
    "os.environ['JSL_OCR_LICENSE'] = license_keys['SPARK_OCR_LICENSE']\n",
    "version = secret.split(\"-\")[0]\n",
    "print ('Spark OCR Version:', version)"
   ]
  },
  {
   "cell_type": "markdown",
   "metadata": {
    "colab_type": "text",
    "id": "74VqnE1reEFC"
   },
   "source": [
    "Install Dependencies"
   ]
  },
  {
   "cell_type": "code",
   "execution_count": null,
   "metadata": {
    "colab": {},
    "colab_type": "code",
    "id": "ErndQ8oea3eY"
   },
   "outputs": [],
   "source": [
    "# Install Java\n",
    "!apt-get update\n",
    "!apt-get install -y openjdk-8-jdk\n",
    "!java -version\n",
    "\n",
    "# Install pyspark, SparkOCR, and SparkNLP\n",
    "!pip install --ignore-installed -q pyspark==2.4.4\n",
    "# Insall Spark Ocr from pypi using secret\n",
    "!python -m pip install --upgrade spark-ocr==$version  --extra-index-url https://pypi.johnsnowlabs.com/$secret\n",
    "# or install from local path\n",
    "# %pip install --user ../../python/dist/spark-ocr-[version].tar.gz\n",
    "!pip install --ignore-installed -q spark-nlp==2.5.2"
   ]
  },
  {
   "cell_type": "markdown",
   "metadata": {
    "colab_type": "text",
    "id": "eVt8BQaaeGp5"
   },
   "source": [
    "Importing Libraries"
   ]
  },
  {
   "cell_type": "code",
   "execution_count": null,
   "metadata": {
    "colab": {},
    "colab_type": "code",
    "id": "cn4in75Ha3eb"
   },
   "outputs": [],
   "source": [
    "import pandas as pd\n",
    "import numpy as np\n",
    "import os\n",
    "\n",
    "#Pyspark Imports\n",
    "from pyspark.sql import SparkSession\n",
    "from pyspark.ml import PipelineModel\n",
    "from pyspark.sql import functions as F\n",
    "\n",
    "# Necessary imports from Spark OCR library\n",
    "from sparkocr import start\n",
    "from sparkocr.transformers import *\n",
    "from sparkocr.enums import *\n",
    "from sparkocr.utils import display_image, to_pil_image\n",
    "from sparkocr.metrics import score\n",
    "import pkg_resources\n",
    "\n",
    "os.environ[\"JAVA_HOME\"] = \"/usr/lib/jvm/java-8-openjdk-amd64\"\n",
    "os.environ[\"PATH\"] = os.environ[\"JAVA_HOME\"] + \"/bin:\" + os.environ[\"PATH\"]\n"
   ]
  },
  {
   "cell_type": "markdown",
   "metadata": {
    "colab_type": "text",
    "id": "pmAnLt26eMHu"
   },
   "source": [
    "Start Spark Session"
   ]
  },
  {
   "cell_type": "code",
   "execution_count": null,
   "metadata": {
    "colab": {
     "base_uri": "https://localhost:8080/",
     "height": 216
    },
    "colab_type": "code",
    "executionInfo": {
     "elapsed": 13038,
     "status": "ok",
     "timestamp": 1597050094356,
     "user": {
      "displayName": "Hasham Ul Haq",
      "photoUrl": "",
      "userId": "10508284328555930330"
     },
     "user_tz": -300
    },
    "id": "BXtlGP0aa3ee",
    "outputId": "ca213d6e-53cc-4741-fdca-fc05a4881298"
   },
   "outputs": [],
   "source": [
    "spark = start(secret=secret)\n",
    "spark"
   ]
  },
  {
   "cell_type": "markdown",
   "metadata": {
    "colab_type": "text",
    "id": "x6caZBlia3et"
   },
   "source": [
    "## 2. Read image with noised background"
   ]
  },
  {
   "cell_type": "code",
   "execution_count": null,
   "metadata": {
    "colab": {
     "base_uri": "https://localhost:8080/",
     "height": 119
    },
    "colab_type": "code",
    "executionInfo": {
     "elapsed": 17869,
     "status": "ok",
     "timestamp": 1597050101133,
     "user": {
      "displayName": "Hasham Ul Haq",
      "photoUrl": "",
      "userId": "10508284328555930330"
     },
     "user_tz": -300
    },
    "id": "ApsEfUpfa3eu",
    "outputId": "d97c0b56-a450-4d3c-de11-17fb7850d314"
   },
   "outputs": [],
   "source": [
    "import pkg_resources\n",
    "imagePath = pkg_resources.resource_filename('sparkocr', 'resources/ocr/images/noised.png')\n",
    "image_df = spark.read.format(\"binaryFile\").load(imagePath).cache()\n",
    "# If you want to load your own image simple mention the image path while loading\n",
    "# Example: image_df = spark.read.format(\"binaryFile\").load(\"image.jpg\").cache()\n",
    "image_df.show()"
   ]
  },
  {
   "cell_type": "markdown",
   "metadata": {
    "colab_type": "text",
    "id": "mxZlmX-ieyqE"
   },
   "source": [
    "## 3. Construct the OCR pipeline"
   ]
  },
  {
   "cell_type": "code",
   "execution_count": null,
   "metadata": {
    "colab": {},
    "colab_type": "code",
    "id": "f9vo_4vua3er"
   },
   "outputs": [],
   "source": [
    "# Read binary as image\n",
    "binary_to_image = BinaryToImage()\n",
    "binary_to_image.setInputCol(\"content\")\n",
    "binary_to_image.setOutputCol(\"image\")\n",
    "\n",
    "# Scale image\n",
    "scaler = ImageScaler()\n",
    "scaler.setInputCol(\"image\")\n",
    "scaler.setOutputCol(\"scaled_image\")\n",
    "scaler.setScaleFactor(2.0)\n",
    "\n",
    "# Binarize using adaptive tresholding\n",
    "binarizer = ImageAdaptiveThresholding()\n",
    "binarizer.setInputCol(\"scaled_image\")\n",
    "binarizer.setOutputCol(\"binarized_image\")\n",
    "binarizer.setBlockSize(91)\n",
    "binarizer.setOffset(60)\n",
    "\n",
    "# Apply morphology opening\n",
    "opening = ImageMorphologyOperation()\n",
    "opening.setKernelShape(KernelShape.SQUARE)\n",
    "opening.setOperation(MorphologyOperationType.OPENING)\n",
    "opening.setKernelSize(2)\n",
    "opening.setInputCol(\"binarized_image\")\n",
    "opening.setOutputCol(\"opening_image\")\n",
    "\n",
    "# Remove small objects\n",
    "remove_objects = ImageRemoveObjects()\n",
    "remove_objects.setInputCol(\"opening_image\")\n",
    "remove_objects.setOutputCol(\"corrected_image\")\n",
    "remove_objects.setMinSizeFont(30)\n",
    "\n",
    "# Run OCR for each region\n",
    "ocr = ImageToText()\n",
    "ocr.setInputCol(\"corrected_image\")\n",
    "ocr.setOutputCol(\"text\")\n",
    "ocr.setConfidenceThreshold(75)\n",
    "ocr.setPageSegMode(PageSegmentationMode.SINGLE_BLOCK)\n",
    "ocr.setIgnoreResolution(False)\n",
    "\n",
    "\n",
    "# OCR pipeline\n",
    "pipeline = PipelineModel(stages=[\n",
    "    binary_to_image,\n",
    "    scaler,\n",
    "    binarizer,\n",
    "    opening,\n",
    "    remove_objects,\n",
    "    ocr\n",
    "])"
   ]
  },
  {
   "cell_type": "markdown",
   "metadata": {
    "colab_type": "text",
    "id": "vd74DK4ha3ew"
   },
   "source": [
    "## 4. Run OCR pipeline"
   ]
  },
  {
   "cell_type": "code",
   "execution_count": null,
   "metadata": {
    "colab": {},
    "colab_type": "code",
    "id": "o5Wh9ysOa3ew"
   },
   "outputs": [],
   "source": [
    "result = pipeline.transform(image_df).cache()"
   ]
  },
  {
   "cell_type": "markdown",
   "metadata": {
    "colab_type": "text",
    "id": "_uC_egLWa3ez"
   },
   "source": [
    "## 5. Visualize Results"
   ]
  },
  {
   "cell_type": "markdown",
   "metadata": {
    "colab_type": "text",
    "id": "wyIew0rVgnPM"
   },
   "source": [
    "Display result dataframe"
   ]
  },
  {
   "cell_type": "code",
   "execution_count": null,
   "metadata": {
    "colab": {
     "base_uri": "https://localhost:8080/",
     "height": 119
    },
    "colab_type": "code",
    "executionInfo": {
     "elapsed": 13526,
     "status": "ok",
     "timestamp": 1597050114682,
     "user": {
      "displayName": "Hasham Ul Haq",
      "photoUrl": "",
      "userId": "10508284328555930330"
     },
     "user_tz": -300
    },
    "id": "dCOLYbB5a3ez",
    "outputId": "3e806bb3-e20f-4789-e8d7-7a2dcad56d55"
   },
   "outputs": [],
   "source": [
    "result.select(\"text\", \"confidence\").show()"
   ]
  },
  {
   "cell_type": "markdown",
   "metadata": {
    "colab_type": "text",
    "id": "N1550yvaa3e4"
   },
   "source": [
    "Display detected min font size"
   ]
  },
  {
   "cell_type": "code",
   "execution_count": null,
   "metadata": {
    "colab": {
     "base_uri": "https://localhost:8080/",
     "height": 34
    },
    "colab_type": "code",
    "executionInfo": {
     "elapsed": 13519,
     "status": "ok",
     "timestamp": 1597050114683,
     "user": {
      "displayName": "Hasham Ul Haq",
      "photoUrl": "",
      "userId": "10508284328555930330"
     },
     "user_tz": -300
    },
    "id": "uOE4HZY9a3e4",
    "outputId": "406a7e71-6397-409a-c7e6-337cdb89ccc4"
   },
   "outputs": [],
   "source": [
    "positions = result.select(\"positions\").head().positions\n",
    "mappings = [ mapping.fontSize for pos in positions for mapping in pos.mapping ]\n",
    "print(min(mappings))"
   ]
  },
  {
   "cell_type": "markdown",
   "metadata": {
    "colab_type": "text",
    "id": "2C_VFRVIa3e6"
   },
   "source": [
    "Display full text"
   ]
  },
  {
   "cell_type": "code",
   "execution_count": null,
   "metadata": {
    "colab": {
     "base_uri": "https://localhost:8080/",
     "height": 425
    },
    "colab_type": "code",
    "executionInfo": {
     "elapsed": 13514,
     "status": "ok",
     "timestamp": 1597050114686,
     "user": {
      "displayName": "Hasham Ul Haq",
      "photoUrl": "",
      "userId": "10508284328555930330"
     },
     "user_tz": -300
    },
    "id": "hJZGPMJna3e6",
    "outputId": "33207382-a4bf-4b48-9be2-ba11b3fcc5e2"
   },
   "outputs": [],
   "source": [
    "print(\"\\n\".join([row.text for row in result.select(\"text\").collect()]))"
   ]
  },
  {
   "cell_type": "markdown",
   "metadata": {
    "colab_type": "text",
    "id": "zLUtYX7Da3e8"
   },
   "source": [
    "Display image for each stage"
   ]
  },
  {
   "cell_type": "code",
   "execution_count": null,
   "metadata": {
    "colab": {
     "base_uri": "https://localhost:8080/",
     "height": 1000
    },
    "colab_type": "code",
    "executionInfo": {
     "elapsed": 21629,
     "status": "ok",
     "timestamp": 1597050122810,
     "user": {
      "displayName": "Hasham Ul Haq",
      "photoUrl": "",
      "userId": "10508284328555930330"
     },
     "user_tz": -300
    },
    "id": "-khxgFIaa3e8",
    "outputId": "8e3a7324-7bc0-44fb-d562-fe6fbeb4452f"
   },
   "outputs": [],
   "source": [
    "for r in result.distinct().collect():\n",
    "    print(\"Original: %s\" % r.path)\n",
    "    display_image(r.image)\n",
    "    print(\"Binarized: %s\" % r.path)\n",
    "    display_image(r.binarized_image)\n",
    "    print(\"Morphology opening: %s\" % r.path)\n",
    "    display_image(r.opening_image)\n",
    "    print(\"Remove small objects: %s\" % r.path)\n",
    "    display_image(r.corrected_image)"
   ]
  },
  {
   "cell_type": "markdown",
   "metadata": {
    "colab_type": "text",
    "id": "R4BTSxF9mqcW"
   },
   "source": [
    "## 6. Convert results to images and save"
   ]
  },
  {
   "cell_type": "code",
   "execution_count": null,
   "metadata": {
    "colab": {},
    "colab_type": "code",
    "id": "aZYtShk6m00P"
   },
   "outputs": [],
   "source": [
    "for r in result.distinct().collect():\n",
    "\n",
    "    img = to_pil_image(r.image, r.image.mode)\n",
    "    img.save('img_grey.jpg')\n",
    "\n",
    "    img = to_pil_image(r.binarized_image, r.binarized_image.mode)\n",
    "    img.save('img_binarized.jpg')\n",
    "\n",
    "    img = to_pil_image(r.opening_image, r.opening_image.mode)\n",
    "    img.save('img_opening.jpg')\n",
    "    \n",
    "    img = to_pil_image(r.corrected_image, r.corrected_image.mode)\n",
    "    img.save('img_corrected.jpg')\n"
   ]
  },
  {
   "cell_type": "markdown",
   "metadata": {
    "colab_type": "text",
    "id": "wUMjFndka3e-"
   },
   "source": [
    "## 7. Compute score and compare it with ABBYY FineReader and AWS TextRact results"
   ]
  },
  {
   "cell_type": "code",
   "execution_count": null,
   "metadata": {
    "colab": {},
    "colab_type": "code",
    "id": "Ev8pjv2Pa3e_"
   },
   "outputs": [],
   "source": [
    "# text recognized by ABBYY FineReader\n",
    "abbyy_finereader = \"\"\"Sur la base de la grande statue de Zeus, à Olympie, Phidias avait\n",
    "présenté les Douze Dieux. Entre le Soleil (Hélios) et la Lune (Sëlénè)\n",
    "& douze divinités, groupées deux à deux, s’ordonnaient en six couples :\n",
    "n dieu-une déesse. Au centre de la frise, en surnombre, les deux divini-\n",
    "(féminine et masculine) qui président aux unions : Aphrodite et\n",
    "ms2;; Dans cette série de huit couples divins, il en est un qui fait prolemé : Hermès-Hestia. Pourquoi les apparier ? Rien dans leur généaloJfêfriï dans leur légende qui puisse justifier cette association: Ils rie sont\n",
    "M m ari et femme (comme Zeus-Héra, Poséidon-Amphitrite, HéphaïstosÊHaris), ni frère et sœur (comme Apollon-Artémis, Hélios-Sélériè), ni\n",
    "mère et fils (comme Aphrodite-Eros), ni protectrice et protégé (comme\n",
    "théna Héraclès). Quel lien unissait donc, dans T esprit de Phidias, un\n",
    "lieu et une dée s s e qui semblent étrangers l’un à l’autre ? On ne saurait\n",
    "‘\"eguer une fantaisie personnelle du sculpteur. Quand il exécuté une\n",
    "livre sacrée, T artiste ancien est tenu de se conformer à certains modèles :\n",
    "|®ihitiative s’exerce dans le cadre des schèmes imposes par la tradiipnV Hestia - nom propre d’une déesse mais aussi nom commun désignant le foyer - se prêtait moins que les autres dieux grecs à la\n",
    "èprésentation anthropomorphe. On la voit rarement figurée. Quand elle\n",
    "’est,5c’est souvent, comme Phidias l’avait sculptée, faisant couple avec\n",
    "érmës3. De règle dans l’art plastique, l’association Hermès-Hestia\n",
    "RpvÆ îi. -4'i 1 T l T i A r o a -i a \"\"\"\n",
    "\n",
    "# text recognized by AWS TextRact\n",
    "text_ract = \"\"\"Sur la base de la grande statue de Zeus, a Olympie, Phidias avait\n",
    "represente les Douze Dieux. Entre le Soleil (Helios) et la Lune (Selene)\n",
    "les douze divinites, groupees deux a deuix, s ordonnaient en six couples :\n",
    "un dieu-une deesse. Au centre de la frise, en surnombre, les deux divini-\n",
    "tes (feminine et masculine) que president aux unions : Aphrodite et\n",
    "Eros?. Dans cette serie de huit couples divins, il en est un qui fait pro-\n",
    "bleme': Hermes-Hestia. Pourquoi les apparier ? Rien dans leur genealo-\n",
    "gre nI dans leur legende qui puisse justifier cette association. Ils ne sont\n",
    "pas mari et femme (comme Zeus-Hera, Poseidon-Amphitrite, Hephaistos-\n",
    "Charis), ni frere et soeur (comme Apollon-Artemis, Helios-Selene), ni\n",
    "mere et fils (comme Aphrodite-Eros), ni protectrice et protege (comme\n",
    "Athena-Heracles): Quel lien unissait donc, dans l'esprit de Phidias; un\n",
    "dieu et une deesse qui semblent etrangers 'un a 1'autre ? On ne saurait\n",
    "alleguer une fantaisie personnelle du sculpteur: Quand il execute une\n",
    "ceuvre sacree, T'artiste ancien est tenu de se conformer a certains modeles :\n",
    "son initiative 'exerce dans le cadre des schemes imposes par la tradi-\n",
    "tion. Hestia - nom propre d'une deesse mais aussi nom commun desi-\n",
    "gnant le foyer - se pretait moins que les autres dieux grecs a la\n",
    "representation anthropomorphe. On la voit rarement figuree. Quand elle\n",
    "Pest, c est souvent, comme Phidias 'avait sculptee, faisant couple avec\n",
    "Hermes3 De regle dans l'art plastique, I'association Hermes-Hestia\n",
    "TYy,,\"\"\""
   ]
  },
  {
   "cell_type": "code",
   "execution_count": null,
   "metadata": {
    "colab": {
     "base_uri": "https://localhost:8080/",
     "height": 68
    },
    "colab_type": "code",
    "executionInfo": {
     "elapsed": 5141,
     "status": "ok",
     "timestamp": 1597050737468,
     "user": {
      "displayName": "Hasham Ul Haq",
      "photoUrl": "",
      "userId": "10508284328555930330"
     },
     "user_tz": -300
    },
    "id": "HB7_bWg_a3fA",
    "outputId": "c4d8641c-a5e8-4a51-ea11-5cb476653537"
   },
   "outputs": [],
   "source": [
    "detected = \"\\n\".join([row.text for row in result.collect()])\n",
    "\n",
    "# Read original text\n",
    "origin_text_file = pkg_resources.resource_filename('sparkocr', 'resources/ocr/images/noised.txt')\n",
    "origin_text = open(origin_text_file, \"r\").read()\n",
    "\n",
    "# Compute scores\n",
    "abbyy_score = score(origin_text, abbyy_finereader)\n",
    "textract_score = score(origin_text, text_ract)\n",
    "corrected_score = score(origin_text, detected)\n",
    "\n",
    "print(\"Abbyy FineReader score: {0}\".format(abbyy_score))\n",
    "print(\"Text Ract score: {0}\".format(textract_score))\n",
    "print(\"Score Spark NLP: {0}\".format(corrected_score))"
   ]
  }
 ],
 "metadata": {
  "colab": {
   "collapsed_sections": [],
   "name": "BG_NOISE_REMOVER.ipynb",
   "provenance": [],
   "toc_visible": true
  },
  "kernelspec": {
   "display_name": "Python 3",
   "language": "python",
   "name": "python3"
  },
  "language_info": {
   "codemirror_mode": {
    "name": "ipython",
    "version": 3
   },
   "file_extension": ".py",
   "mimetype": "text/x-python",
   "name": "python",
   "nbconvert_exporter": "python",
   "pygments_lexer": "ipython3",
   "version": "3.7.7"
  }
 },
 "nbformat": 4,
 "nbformat_minor": 0
}
