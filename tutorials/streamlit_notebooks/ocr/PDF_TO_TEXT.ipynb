{
 "cells": [
  {
   "cell_type": "markdown",
   "metadata": {
    "colab_type": "text",
    "id": "w-pyfWT3a6S4"
   },
   "source": [
    "![JohnSnowLabs](https://nlp.johnsnowlabs.com/assets/images/logo.png)\n",
    "\n",
    "[![Open In Colab](https://colab.research.google.com/assets/colab-badge.svg)](https://colab.research.google.com/github/JohnSnowLabs/spark-nlp-workshop/blob/master/tutorials/streamlit_notebooks/ocr/PDF_TO_TEXT.ipynb)"
   ]
  },
  {
   "cell_type": "markdown",
   "metadata": {
    "colab_type": "text",
    "id": "NWU8Tl9Fa3eT"
   },
   "source": [
    "# PDF to Text"
   ]
  },
  {
   "cell_type": "markdown",
   "metadata": {
    "colab_type": "text",
    "id": "8DtUIwnIa3eU"
   },
   "source": [
    "To run this yourself, you will need to upload your **Spark OCR** license keys to the notebook. Otherwise, you can look at the example outputs at the bottom of the notebook. To upload license keys, open the file explorer on the left side of the screen and upload `workshop_license_keys.json` to the folder that opens."
   ]
  },
  {
   "cell_type": "markdown",
   "metadata": {
    "colab_type": "text",
    "id": "FAbRkMvtz-Gl"
   },
   "source": [
    "For more in-depth tutorials: https://github.com/JohnSnowLabs/spark-ocr-workshop/tree/master/jupyter"
   ]
  },
  {
   "cell_type": "markdown",
   "metadata": {
    "colab_type": "text",
    "id": "xdROQW5ScYKA"
   },
   "source": [
    "## 1. Colab Setup"
   ]
  },
  {
   "cell_type": "markdown",
   "metadata": {
    "colab_type": "text",
    "id": "x78T5abRkFaW"
   },
   "source": [
    "Install correct version of Pillow and Restart runtime"
   ]
  },
  {
   "cell_type": "code",
   "execution_count": null,
   "metadata": {
    "colab": {
     "base_uri": "https://localhost:8080/",
     "height": 34
    },
    "colab_type": "code",
    "executionInfo": {
     "elapsed": 1180,
     "status": "ok",
     "timestamp": 1597083023345,
     "user": {
      "displayName": "Hasham Ul Haq",
      "photoUrl": "",
      "userId": "10508284328555930330"
     },
     "user_tz": -300
    },
    "id": "0h4vKhQfkOqQ",
    "outputId": "026e9ccc-676c-413e-ff6c-53fea9f83d09"
   },
   "outputs": [],
   "source": [
    "# Install correct Pillow version\n",
    "import PIL\n",
    "if PIL.__version__  != '6.2.1':\n",
    "  print ('Installing correct version of Pillow. Kernel will restart automatically')\n",
    "  !pip install --upgrade pillow==6.2.1\n",
    "  # hard restart runtime\n",
    "  import os\n",
    "  os.kill(os.getpid(), 9)\n",
    "else:\n",
    "  print ('Correct Pillow detected')"
   ]
  },
  {
   "cell_type": "markdown",
   "metadata": {
    "colab_type": "text",
    "id": "GeMJ4AoPkoMc"
   },
   "source": [
    "Read licence key"
   ]
  },
  {
   "cell_type": "code",
   "execution_count": null,
   "metadata": {
    "colab": {
     "base_uri": "https://localhost:8080/",
     "height": 51
    },
    "colab_type": "code",
    "executionInfo": {
     "elapsed": 759,
     "status": "ok",
     "timestamp": 1597083024924,
     "user": {
      "displayName": "Hasham Ul Haq",
      "photoUrl": "",
      "userId": "10508284328555930330"
     },
     "user_tz": -300
    },
    "id": "fUeMlVj1a3eV",
    "outputId": "0ab766ee-d35c-4aa2-c977-25dcd924135c"
   },
   "outputs": [],
   "source": [
    "import os\n",
    "import json\n",
    "\n",
    "with open('workshop_license_keys.json') as f:\n",
    "    license_keys = json.load(f)\n",
    "\n",
    "print (license_keys.keys())\n",
    "\n",
    "secret = license_keys['JSL_OCR_SECRET']\n",
    "os.environ['SPARK_OCR_LICENSE'] = license_keys['SPARK_OCR_LICENSE']\n",
    "os.environ['JSL_OCR_LICENSE'] = license_keys['SPARK_OCR_LICENSE']\n",
    "version = secret.split(\"-\")[0]\n",
    "print ('Spark OCR Version:', version)"
   ]
  },
  {
   "cell_type": "markdown",
   "metadata": {
    "colab_type": "text",
    "id": "74VqnE1reEFC"
   },
   "source": [
    "Install Dependencies"
   ]
  },
  {
   "cell_type": "code",
   "execution_count": null,
   "metadata": {
    "colab": {
     "base_uri": "https://localhost:8080/",
     "height": 1000
    },
    "colab_type": "code",
    "executionInfo": {
     "elapsed": 102743,
     "status": "ok",
     "timestamp": 1597083130268,
     "user": {
      "displayName": "Hasham Ul Haq",
      "photoUrl": "",
      "userId": "10508284328555930330"
     },
     "user_tz": -300
    },
    "id": "ErndQ8oea3eY",
    "outputId": "5a532ad7-4e06-4966-e3b4-c9f1ddeb976f"
   },
   "outputs": [],
   "source": [
    "# Install Java\n",
    "!apt-get update\n",
    "!apt-get install -y openjdk-8-jdk\n",
    "!java -version\n",
    "\n",
    "# Install pyspark, SparkOCR, and SparkNLP\n",
    "!pip install --ignore-installed -q pyspark==2.4.4\n",
    "# Insall Spark Ocr from pypi using secret\n",
    "!python -m pip install --upgrade spark-ocr==$version  --extra-index-url https://pypi.johnsnowlabs.com/$secret\n",
    "# or install from local path\n",
    "# %pip install --user ../../python/dist/spark-ocr-[version].tar.gz\n",
    "!pip install --ignore-installed -q spark-nlp==2.5.2"
   ]
  },
  {
   "cell_type": "markdown",
   "metadata": {
    "colab_type": "text",
    "id": "eVt8BQaaeGp5"
   },
   "source": [
    "Importing Libraries"
   ]
  },
  {
   "cell_type": "code",
   "execution_count": null,
   "metadata": {
    "colab": {},
    "colab_type": "code",
    "executionInfo": {
     "elapsed": 103622,
     "status": "ok",
     "timestamp": 1597083131846,
     "user": {
      "displayName": "Hasham Ul Haq",
      "photoUrl": "",
      "userId": "10508284328555930330"
     },
     "user_tz": -300
    },
    "id": "cn4in75Ha3eb"
   },
   "outputs": [],
   "source": [
    "import pandas as pd\n",
    "import numpy as np\n",
    "import os\n",
    "\n",
    "#Pyspark Imports\n",
    "from pyspark.sql import SparkSession\n",
    "from pyspark.ml import PipelineModel\n",
    "from pyspark.sql import functions as F\n",
    "\n",
    "# Necessary imports from Spark OCR library\n",
    "from sparkocr import start\n",
    "from sparkocr.transformers import *\n",
    "from sparkocr.enums import *\n",
    "from sparkocr.utils import display_image, to_pil_image\n",
    "from sparkocr.metrics import score\n",
    "import pkg_resources\n",
    "\n",
    "# import sparknlp packages\n",
    "from sparknlp.annotator import *\n",
    "from sparknlp.base import *\n",
    "\n",
    "os.environ[\"JAVA_HOME\"] = \"/usr/lib/jvm/java-8-openjdk-amd64\"\n",
    "os.environ[\"PATH\"] = os.environ[\"JAVA_HOME\"] + \"/bin:\" + os.environ[\"PATH\"]\n"
   ]
  },
  {
   "cell_type": "markdown",
   "metadata": {
    "colab_type": "text",
    "id": "pmAnLt26eMHu"
   },
   "source": [
    "Start Spark Session"
   ]
  },
  {
   "cell_type": "code",
   "execution_count": null,
   "metadata": {
    "colab": {
     "base_uri": "https://localhost:8080/",
     "height": 216
    },
    "colab_type": "code",
    "executionInfo": {
     "elapsed": 111669,
     "status": "ok",
     "timestamp": 1597083141185,
     "user": {
      "displayName": "Hasham Ul Haq",
      "photoUrl": "",
      "userId": "10508284328555930330"
     },
     "user_tz": -300
    },
    "id": "BXtlGP0aa3ee",
    "outputId": "89c69578-1c0b-4132-a123-c5d54a0e2b71"
   },
   "outputs": [],
   "source": [
    "spark = start(secret=secret)\n",
    "spark"
   ]
  },
  {
   "cell_type": "markdown",
   "metadata": {
    "colab_type": "text",
    "id": "x6caZBlia3et"
   },
   "source": [
    "## 2. Download and read a pdf file"
   ]
  },
  {
   "cell_type": "code",
   "execution_count": null,
   "metadata": {
    "colab": {
     "base_uri": "https://localhost:8080/",
     "height": 204
    },
    "colab_type": "code",
    "executionInfo": {
     "elapsed": 112655,
     "status": "ok",
     "timestamp": 1597083145711,
     "user": {
      "displayName": "Hasham Ul Haq",
      "photoUrl": "",
      "userId": "10508284328555930330"
     },
     "user_tz": -300
    },
    "id": "Q6KK40-Q2NA0",
    "outputId": "f017fd2f-1b54-4939-b9d3-ea1566d835c7"
   },
   "outputs": [],
   "source": [
    "!wget http://unec.edu.az/application/uploads/2014/12/pdf-sample.pdf -O sample.pdf"
   ]
  },
  {
   "cell_type": "code",
   "execution_count": null,
   "metadata": {
    "colab": {
     "base_uri": "https://localhost:8080/",
     "height": 119
    },
    "colab_type": "code",
    "executionInfo": {
     "elapsed": 118455,
     "status": "ok",
     "timestamp": 1597083152337,
     "user": {
      "displayName": "Hasham Ul Haq",
      "photoUrl": "",
      "userId": "10508284328555930330"
     },
     "user_tz": -300
    },
    "id": "ApsEfUpfa3eu",
    "outputId": "7107bbcb-ee36-4636-9afe-c46de2478d15"
   },
   "outputs": [],
   "source": [
    "image_df = spark.read.format(\"binaryFile\").load('sample.pdf').cache()\n",
    "image_df.show()"
   ]
  },
  {
   "cell_type": "markdown",
   "metadata": {
    "colab_type": "text",
    "id": "mxZlmX-ieyqE"
   },
   "source": [
    "## 3. Construct the OCR pipeline"
   ]
  },
  {
   "cell_type": "code",
   "execution_count": null,
   "metadata": {
    "colab": {},
    "colab_type": "code",
    "executionInfo": {
     "elapsed": 116884,
     "status": "ok",
     "timestamp": 1597083152338,
     "user": {
      "displayName": "Hasham Ul Haq",
      "photoUrl": "",
      "userId": "10508284328555930330"
     },
     "user_tz": -300
    },
    "id": "f9vo_4vua3er"
   },
   "outputs": [],
   "source": [
    "pdf_to_image = PdfToImage() \\\n",
    "            .setInputCol(\"content\") \\\n",
    "            .setOutputCol(\"image_raw\") \\\n",
    "            .setKeepInput(True)\n",
    "\n",
    "# Transform image to the binary color model\n",
    "binarizer = ImageBinarizer() \\\n",
    "            .setInputCol(\"image_raw\") \\\n",
    "            .setOutputCol(\"image\") \\\n",
    "            .setThreshold(130)\n",
    "# Run OCR for each region\n",
    "ocr = ImageToText() \\\n",
    "            .setInputCol(\"image\") \\\n",
    "            .setOutputCol(\"text\") \\\n",
    "            .setIgnoreResolution(False) \\\n",
    "            .setPageSegMode(PageSegmentationMode.SPARSE_TEXT) \\\n",
    "            .setConfidenceThreshold(60)\n",
    "\n",
    "#Render text with positions to Pdf document.\n",
    "textToPdf = TextToPdf() \\\n",
    "            .setInputCol(\"positions\") \\\n",
    "            .setInputImage(\"image\") \\\n",
    "            .setInputText(\"text\") \\\n",
    "            .setOutputCol(\"pdf\") \\\n",
    "            .setInputContent(\"content\")\n",
    "# OCR pipeline\n",
    "pipeline = PipelineModel(stages=[\n",
    "            pdf_to_image,\n",
    "            binarizer,\n",
    "            ocr,\n",
    "            textToPdf\n",
    "        ])"
   ]
  },
  {
   "cell_type": "markdown",
   "metadata": {
    "colab_type": "text",
    "id": "vd74DK4ha3ew"
   },
   "source": [
    "## 4. Run OCR pipeline"
   ]
  },
  {
   "cell_type": "code",
   "execution_count": null,
   "metadata": {
    "colab": {},
    "colab_type": "code",
    "executionInfo": {
     "elapsed": 117405,
     "status": "ok",
     "timestamp": 1597083154544,
     "user": {
      "displayName": "Hasham Ul Haq",
      "photoUrl": "",
      "userId": "10508284328555930330"
     },
     "user_tz": -300
    },
    "id": "o5Wh9ysOa3ew"
   },
   "outputs": [],
   "source": [
    "result = pipeline.transform(image_df).cache()"
   ]
  },
  {
   "cell_type": "markdown",
   "metadata": {
    "colab_type": "text",
    "id": "_uC_egLWa3ez"
   },
   "source": [
    "## 5. Visualize Results"
   ]
  },
  {
   "cell_type": "markdown",
   "metadata": {
    "colab_type": "text",
    "id": "wyIew0rVgnPM"
   },
   "source": [
    "Display result dataframe"
   ]
  },
  {
   "cell_type": "code",
   "execution_count": null,
   "metadata": {
    "colab": {
     "base_uri": "https://localhost:8080/",
     "height": 119
    },
    "colab_type": "code",
    "executionInfo": {
     "elapsed": 124536,
     "status": "ok",
     "timestamp": 1597083166194,
     "user": {
      "displayName": "Hasham Ul Haq",
      "photoUrl": "",
      "userId": "10508284328555930330"
     },
     "user_tz": -300
    },
    "id": "dCOLYbB5a3ez",
    "outputId": "db06c3dd-6fab-42ba-a063-3e54756b8fc4"
   },
   "outputs": [],
   "source": [
    "result.select(\"text\").show()"
   ]
  },
  {
   "cell_type": "markdown",
   "metadata": {
    "colab_type": "text",
    "id": "2C_VFRVIa3e6"
   },
   "source": [
    "Display text"
   ]
  },
  {
   "cell_type": "code",
   "execution_count": null,
   "metadata": {
    "colab": {
     "base_uri": "https://localhost:8080/",
     "height": 595
    },
    "colab_type": "code",
    "executionInfo": {
     "elapsed": 128608,
     "status": "ok",
     "timestamp": 1597083170993,
     "user": {
      "displayName": "Hasham Ul Haq",
      "photoUrl": "",
      "userId": "10508284328555930330"
     },
     "user_tz": -300
    },
    "id": "hJZGPMJna3e6",
    "outputId": "6ac4d7e3-c5c1-4471-99d4-0dc3d99ee4ee"
   },
   "outputs": [],
   "source": [
    "result_arr = []\n",
    "for r in result.distinct().collect():\n",
    "  for page in r.text:\n",
    "    print (page)\n",
    "    result_arr.append(page)"
   ]
  }
 ],
 "metadata": {
  "colab": {
   "collapsed_sections": [],
   "name": "PDF_TO_TEXT.ipynb",
   "provenance": [],
   "toc_visible": true
  },
  "kernelspec": {
   "display_name": "Python 3",
   "language": "python",
   "name": "python3"
  },
  "language_info": {
   "codemirror_mode": {
    "name": "ipython",
    "version": 3
   },
   "file_extension": ".py",
   "mimetype": "text/x-python",
   "name": "python",
   "nbconvert_exporter": "python",
   "pygments_lexer": "ipython3",
   "version": "3.7.7"
  }
 },
 "nbformat": 4,
 "nbformat_minor": 0
}
