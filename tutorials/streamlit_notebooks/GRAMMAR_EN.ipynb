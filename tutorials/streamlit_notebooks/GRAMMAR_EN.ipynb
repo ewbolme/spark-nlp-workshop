{
 "cells": [
  {
   "cell_type": "markdown",
   "metadata": {
    "colab_type": "text",
    "id": "hb-VyZjNYsNu"
   },
   "source": [
    "\n",
    "\n",
    "![JohnSnowLabs](https://nlp.johnsnowlabs.com/assets/images/logo.png)\n",
    "\n",
    "[![Open In Colab](https://colab.research.google.com/assets/colab-badge.svg)](https://colab.research.google.com/github/JohnSnowLabs/spark-nlp-workshop/blob/master/tutorials/streamlit_notebooks/GRAMMAR_EN.ipynb)\n"
   ]
  },
  {
   "cell_type": "markdown",
   "metadata": {
    "colab_type": "text",
    "id": "syePZ-1gYyj3"
   },
   "source": [
    "# **Extract Part of speech tags and perform dependency parsing on a text**"
   ]
  },
  {
   "cell_type": "markdown",
   "metadata": {
    "colab_type": "text",
    "id": "wDJCr8UTZAqg"
   },
   "source": [
    "## 1. Colab Setup"
   ]
  },
  {
   "cell_type": "code",
   "execution_count": null,
   "metadata": {
    "colab": {
     "base_uri": "https://localhost:8080/",
     "height": 224
    },
    "colab_type": "code",
    "executionInfo": {
     "elapsed": 81183,
     "status": "ok",
     "timestamp": 1597073849104,
     "user": {
      "displayName": "Hasham Ul Haq",
      "photoUrl": "",
      "userId": "10508284328555930330"
     },
     "user_tz": -300
    },
    "id": "w6o8-g0tEqNz",
    "outputId": "53ba1584-ead9-4111-b281-d490635ec604"
   },
   "outputs": [],
   "source": [
    "# Install java\n",
    "!apt-get update -qq\n",
    "!apt-get install -y openjdk-8-jdk-headless -qq > /dev/null\n",
    "!java -version\n",
    "\n",
    "# Install pyspark\n",
    "!pip install --ignore-installed -q pyspark==2.4.4\n",
    "\n",
    "# Install Sparknlp\n",
    "!pip install --ignore-installed spark-nlp"
   ]
  },
  {
   "cell_type": "code",
   "execution_count": null,
   "metadata": {
    "colab": {},
    "colab_type": "code",
    "executionInfo": {
     "elapsed": 2074,
     "status": "ok",
     "timestamp": 1597073855516,
     "user": {
      "displayName": "Hasham Ul Haq",
      "photoUrl": "",
      "userId": "10508284328555930330"
     },
     "user_tz": -300
    },
    "id": "yMmT9S6mE0ad"
   },
   "outputs": [],
   "source": [
    "import pandas as pd\n",
    "import numpy as np\n",
    "import os\n",
    "os.environ[\"JAVA_HOME\"] = \"/usr/lib/jvm/java-8-openjdk-amd64\"\n",
    "os.environ[\"PATH\"] = os.environ[\"JAVA_HOME\"] + \"/bin:\" + os.environ[\"PATH\"]\n",
    "import json\n",
    "from sklearn.model_selection import train_test_split\n",
    "from sklearn.metrics import classification_report, accuracy_score\n",
    "from pyspark.ml import Pipeline\n",
    "from pyspark.sql import SparkSession\n",
    "import pyspark.sql.functions as F\n",
    "from sparknlp.annotator import *\n",
    "from sparknlp.base import *\n",
    "import sparknlp\n",
    "from sparknlp.pretrained import PretrainedPipeline"
   ]
  },
  {
   "cell_type": "markdown",
   "metadata": {
    "colab_type": "text",
    "id": "f0fyw4cTZDMp"
   },
   "source": [
    "## 2. Start Spark Session"
   ]
  },
  {
   "cell_type": "code",
   "execution_count": null,
   "metadata": {
    "colab": {},
    "colab_type": "code",
    "executionInfo": {
     "elapsed": 74888,
     "status": "ok",
     "timestamp": 1597073929624,
     "user": {
      "displayName": "Hasham Ul Haq",
      "photoUrl": "",
      "userId": "10508284328555930330"
     },
     "user_tz": -300
    },
    "id": "4zBXbY_vE2ss"
   },
   "outputs": [],
   "source": [
    "spark = sparknlp.start()"
   ]
  },
  {
   "cell_type": "markdown",
   "metadata": {
    "colab_type": "text",
    "id": "ODFvrTAgZGGw"
   },
   "source": [
    "## 3. Select the DL model"
   ]
  },
  {
   "cell_type": "code",
   "execution_count": null,
   "metadata": {
    "colab": {},
    "colab_type": "code",
    "executionInfo": {
     "elapsed": 74142,
     "status": "ok",
     "timestamp": 1597073929628,
     "user": {
      "displayName": "Hasham Ul Haq",
      "photoUrl": "",
      "userId": "10508284328555930330"
     },
     "user_tz": -300
    },
    "id": "1XxHWemdE5hX"
   },
   "outputs": [],
   "source": [
    "\n",
    "MODEL_NAME='dependency_typed_conllu'"
   ]
  },
  {
   "cell_type": "markdown",
   "metadata": {
    "colab_type": "text",
    "id": "s-HM1On1ZJ4L"
   },
   "source": [
    "## 4. Some sample examples"
   ]
  },
  {
   "cell_type": "code",
   "execution_count": null,
   "metadata": {
    "colab": {},
    "colab_type": "code",
    "executionInfo": {
     "elapsed": 72592,
     "status": "ok",
     "timestamp": 1597073929629,
     "user": {
      "displayName": "Hasham Ul Haq",
      "photoUrl": "",
      "userId": "10508284328555930330"
     },
     "user_tz": -300
    },
    "id": "GJ7GCD0pFDvP"
   },
   "outputs": [],
   "source": [
    "## Generating Example Files ##\n",
    "text_list = [\n",
    "             \"\"\"John Snow is a good man. He knows a lot about science.\"\"\",\n",
    "             \"\"\"In what country is the WTO headquartered?\"\"\",\n",
    "             \"\"\"I was wearing my dark blue shirt and tie.\"\"\",\n",
    "             \"\"\"The Geneva Motor Show is the most popular car show of the year.\"\"\",\n",
    "             \"\"\"Bill Gates and Steve Jobs had periods of civility.\"\"\",\n",
    "]\n"
   ]
  },
  {
   "cell_type": "markdown",
   "metadata": {
    "colab_type": "text",
    "id": "b_FMM_GLZMjX"
   },
   "source": [
    "## 5. Define Spark NLP pipeline"
   ]
  },
  {
   "cell_type": "code",
   "execution_count": null,
   "metadata": {
    "colab": {
     "base_uri": "https://localhost:8080/",
     "height": 170
    },
    "colab_type": "code",
    "executionInfo": {
     "elapsed": 11807,
     "status": "ok",
     "timestamp": 1597074234106,
     "user": {
      "displayName": "Hasham Ul Haq",
      "photoUrl": "",
      "userId": "10508284328555930330"
     },
     "user_tz": -300
    },
    "id": "IiYxv0mOFIcX",
    "outputId": "bc25787b-0c93-4d0e-b4d4-92071f340182"
   },
   "outputs": [],
   "source": [
    "documentAssembler = DocumentAssembler()\\\n",
    "    .setInputCol(\"text\")\\\n",
    "    .setOutputCol(\"document\")\n",
    "\n",
    "tokenizer = Tokenizer() \\\n",
    "    .setInputCols([\"document\"]) \\\n",
    "    .setOutputCol(\"token\")\n",
    "\n",
    "pos = PerceptronModel.pretrained(\"pos_anc\", 'en')\\\n",
    "        .setInputCols(\"document\", \"token\")\\\n",
    "        .setOutputCol(\"pos\")\n",
    "\n",
    "dep_parser = DependencyParserModel.pretrained('dependency_conllu')\\\n",
    "        .setInputCols([\"document\", \"pos\", \"token\"])\\\n",
    "        .setOutputCol(\"dependency\")\n",
    "\n",
    "\n",
    "typed_dep_parser = TypedDependencyParserModel.pretrained('dependency_typed_conllu')\\\n",
    "        .setInputCols([\"token\", \"pos\", \"dependency\"])\\\n",
    "        .setOutputCol(\"dependency_type\")\n",
    "\n",
    "\n",
    "nlpPipeline = Pipeline(\n",
    "      stages = [\n",
    "          documentAssembler,\n",
    "          tokenizer,\n",
    "          pos,\n",
    "          dep_parser,\n",
    "          typed_dep_parser\n",
    "      ])\n",
    "\n"
   ]
  },
  {
   "cell_type": "markdown",
   "metadata": {
    "colab_type": "text",
    "id": "2zMXh_skZPvR"
   },
   "source": [
    "## 6. Select the example to test"
   ]
  },
  {
   "cell_type": "code",
   "execution_count": null,
   "metadata": {
    "colab": {},
    "colab_type": "code",
    "executionInfo": {
     "elapsed": 1397,
     "status": "ok",
     "timestamp": 1597074280263,
     "user": {
      "displayName": "Hasham Ul Haq",
      "photoUrl": "",
      "userId": "10508284328555930330"
     },
     "user_tz": -300
    },
    "id": "gQmz-XHWZX1N"
   },
   "outputs": [],
   "source": [
    "index=0"
   ]
  },
  {
   "cell_type": "markdown",
   "metadata": {
    "colab_type": "text",
    "id": "9ipT3X2sZeBq"
   },
   "source": [
    "## 7. Run the pipeline on selected example"
   ]
  },
  {
   "cell_type": "code",
   "execution_count": null,
   "metadata": {
    "colab": {},
    "colab_type": "code",
    "executionInfo": {
     "elapsed": 4619,
     "status": "ok",
     "timestamp": 1597074284182,
     "user": {
      "displayName": "Hasham Ul Haq",
      "photoUrl": "",
      "userId": "10508284328555930330"
     },
     "user_tz": -300
    },
    "id": "7O34pc7d27-j"
   },
   "outputs": [],
   "source": [
    "empty_df = spark.createDataFrame([['']]).toDF(\"text\")\n",
    "pipelineModel = nlpPipeline.fit(empty_df)\n",
    "\n",
    "df = spark.createDataFrame(pd.DataFrame({\"text\":[text_list[index]]}))\n",
    "result = pipelineModel.transform(df)\n"
   ]
  },
  {
   "cell_type": "markdown",
   "metadata": {
    "colab_type": "text",
    "id": "tBr9mBDXZUTX"
   },
   "source": [
    "## 8. Visualize results"
   ]
  },
  {
   "cell_type": "code",
   "execution_count": null,
   "metadata": {
    "colab": {
     "base_uri": "https://localhost:8080/",
     "height": 483
    },
    "colab_type": "code",
    "executionInfo": {
     "elapsed": 8639,
     "status": "ok",
     "timestamp": 1597074289348,
     "user": {
      "displayName": "Hasham Ul Haq",
      "photoUrl": "",
      "userId": "10508284328555930330"
     },
     "user_tz": -300
    },
    "id": "TzJSQhTnFix5",
    "outputId": "639d6831-4e7f-4709-c729-4cace40a7c97"
   },
   "outputs": [],
   "source": [
    "\n",
    "result.select(F.explode(F.arrays_zip('token.result',\n",
    "                                     'token.begin',\n",
    "                                     'token.end', \n",
    "                                     'pos.result', \n",
    "                                     'dependency.result', \n",
    "                                                  'dependency.metadata',\n",
    "                                                  'dependency_type.result')).alias(\"cols\"))\\\n",
    "                                                  .select(F.expr(\"cols['0']\").alias(\"chunk\"),\n",
    "                                                          F.expr(\"cols['1']\").alias(\"begin\"),\n",
    "                                                          F.expr(\"cols['2']\").alias(\"end\"),\n",
    "                                                          F.expr(\"cols['3']\").alias(\"pos\"),\n",
    "                                                          F.expr(\"cols['4']\").alias(\"dependency\"),\n",
    "                                                          F.expr(\"cols['5']\").alias(\"dependency_start\"),\n",
    "                                                          F.expr(\"cols['6']\").alias(\"dependency_type\"))\n"
   ]
  }
 ],
 "metadata": {
  "colab": {
   "collapsed_sections": [],
   "name": "GRAMMAR_EN.ipynb",
   "provenance": [],
   "toc_visible": true
  },
  "kernelspec": {
   "display_name": "Python 3",
   "name": "python3"
  }
 },
 "nbformat": 4,
 "nbformat_minor": 0
}
